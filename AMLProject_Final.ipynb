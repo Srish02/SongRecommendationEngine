{
  "nbformat": 4,
  "nbformat_minor": 0,
  "metadata": {
    "colab": {
      "name": "AMLProject-Final.ipynb",
      "provenance": []
    },
    "kernelspec": {
      "display_name": "Python 3",
      "language": "python",
      "name": "python3"
    },
    "language_info": {
      "codemirror_mode": {
        "name": "ipython",
        "version": 3
      },
      "file_extension": ".py",
      "mimetype": "text/x-python",
      "name": "python",
      "nbconvert_exporter": "python",
      "pygments_lexer": "ipython3",
      "version": "3.8.3"
    },
    "accelerator": "GPU"
  },
  "cells": [
    {
      "cell_type": "code",
      "metadata": {
        "id": "uYItADqsg01H"
      },
      "source": [
        "import pandas as pd\n",
        "from sklearn.model_selection import train_test_split\n",
        "import re\n",
        "import nltk\n",
        "import numpy as np\n",
        "from scipy.sparse import coo_matrix\n",
        "import math as mt\n",
        "import csv\n",
        "from scipy.sparse import csc_matrix \n",
        "from scipy.sparse.linalg import *"
      ],
      "execution_count": null,
      "outputs": []
    },
    {
      "cell_type": "code",
      "metadata": {
        "id": "odN4i7y8_hE0",
        "colab": {
          "base_uri": "https://localhost:8080/"
        },
        "outputId": "c2aac034-6714-4ebb-a730-d31accfd5dba"
      },
      "source": [
        "pip install -U turicreate"
      ],
      "execution_count": null,
      "outputs": [
        {
          "output_type": "stream",
          "text": [
            "Collecting turicreate\n",
            "\u001b[?25l  Downloading https://files.pythonhosted.org/packages/ea/63/00ef7586c56a1aa48a7acabe20e1118cd82794785a56137e190fc6fb049c/turicreate-6.4.1-cp36-cp36m-manylinux1_x86_64.whl (92.0MB)\n",
            "\u001b[K     |████████████████████████████████| 92.0MB 78kB/s \n",
            "\u001b[?25hRequirement already satisfied, skipping upgrade: decorator>=4.0.9 in /usr/local/lib/python3.6/dist-packages (from turicreate) (4.4.2)\n",
            "Requirement already satisfied, skipping upgrade: six>=1.10.0 in /usr/local/lib/python3.6/dist-packages (from turicreate) (1.15.0)\n",
            "Collecting coremltools==3.3\n",
            "\u001b[?25l  Downloading https://files.pythonhosted.org/packages/77/19/611916d1ef326d38857d93af5ba184f6ad7491642e0fa4f9082e7d82f034/coremltools-3.3-cp36-none-manylinux1_x86_64.whl (3.4MB)\n",
            "\u001b[K     |████████████████████████████████| 3.4MB 51.8MB/s \n",
            "\u001b[?25hCollecting prettytable==0.7.2\n",
            "  Downloading https://files.pythonhosted.org/packages/ef/30/4b0746848746ed5941f052479e7c23d2b56d174b82f4fd34a25e389831f5/prettytable-0.7.2.tar.bz2\n",
            "Requirement already satisfied, skipping upgrade: requests>=2.9.1 in /usr/local/lib/python3.6/dist-packages (from turicreate) (2.23.0)\n",
            "Requirement already satisfied, skipping upgrade: pillow>=5.2.0 in /usr/local/lib/python3.6/dist-packages (from turicreate) (7.0.0)\n",
            "Requirement already satisfied, skipping upgrade: numpy in /usr/local/lib/python3.6/dist-packages (from turicreate) (1.18.5)\n",
            "Requirement already satisfied, skipping upgrade: scipy>=1.1.0 in /usr/local/lib/python3.6/dist-packages (from turicreate) (1.4.1)\n",
            "Collecting resampy==0.2.1\n",
            "\u001b[?25l  Downloading https://files.pythonhosted.org/packages/14/b6/66a06d85474190b50aee1a6c09cdc95bb405ac47338b27e9b21409da1760/resampy-0.2.1.tar.gz (322kB)\n",
            "\u001b[K     |████████████████████████████████| 327kB 48.2MB/s \n",
            "\u001b[?25hRequirement already satisfied, skipping upgrade: numba<0.51.0 in /usr/local/lib/python3.6/dist-packages (from turicreate) (0.48.0)\n",
            "Collecting tensorflow<2.1.0,>=2.0.0\n",
            "\u001b[?25l  Downloading https://files.pythonhosted.org/packages/87/5e/254f5baeb331a7c9065b796d786cd07c5db79f2d76a496b74891a6521e25/tensorflow-2.0.3-cp36-cp36m-manylinux2010_x86_64.whl (86.4MB)\n",
            "\u001b[K     |████████████████████████████████| 86.4MB 50kB/s \n",
            "\u001b[?25hRequirement already satisfied, skipping upgrade: pandas>=0.23.2 in /usr/local/lib/python3.6/dist-packages (from turicreate) (1.1.5)\n",
            "Requirement already satisfied, skipping upgrade: protobuf>=3.1.0 in /usr/local/lib/python3.6/dist-packages (from coremltools==3.3->turicreate) (3.12.4)\n",
            "Requirement already satisfied, skipping upgrade: urllib3!=1.25.0,!=1.25.1,<1.26,>=1.21.1 in /usr/local/lib/python3.6/dist-packages (from requests>=2.9.1->turicreate) (1.24.3)\n",
            "Requirement already satisfied, skipping upgrade: idna<3,>=2.5 in /usr/local/lib/python3.6/dist-packages (from requests>=2.9.1->turicreate) (2.10)\n",
            "Requirement already satisfied, skipping upgrade: chardet<4,>=3.0.2 in /usr/local/lib/python3.6/dist-packages (from requests>=2.9.1->turicreate) (3.0.4)\n",
            "Requirement already satisfied, skipping upgrade: certifi>=2017.4.17 in /usr/local/lib/python3.6/dist-packages (from requests>=2.9.1->turicreate) (2020.12.5)\n",
            "Requirement already satisfied, skipping upgrade: setuptools in /usr/local/lib/python3.6/dist-packages (from numba<0.51.0->turicreate) (50.3.2)\n",
            "Requirement already satisfied, skipping upgrade: llvmlite<0.32.0,>=0.31.0dev0 in /usr/local/lib/python3.6/dist-packages (from numba<0.51.0->turicreate) (0.31.0)\n",
            "Requirement already satisfied, skipping upgrade: astor>=0.6.0 in /usr/local/lib/python3.6/dist-packages (from tensorflow<2.1.0,>=2.0.0->turicreate) (0.8.1)\n",
            "Collecting tensorboard<2.1.0,>=2.0.0\n",
            "\u001b[?25l  Downloading https://files.pythonhosted.org/packages/76/54/99b9d5d52d5cb732f099baaaf7740403e83fe6b0cedde940fabd2b13d75a/tensorboard-2.0.2-py3-none-any.whl (3.8MB)\n",
            "\u001b[K     |████████████████████████████████| 3.8MB 52.5MB/s \n",
            "\u001b[?25hRequirement already satisfied, skipping upgrade: termcolor>=1.1.0 in /usr/local/lib/python3.6/dist-packages (from tensorflow<2.1.0,>=2.0.0->turicreate) (1.1.0)\n",
            "Requirement already satisfied, skipping upgrade: wheel>=0.26; python_version >= \"3\" in /usr/local/lib/python3.6/dist-packages (from tensorflow<2.1.0,>=2.0.0->turicreate) (0.36.1)\n",
            "Collecting keras-applications>=1.0.8\n",
            "\u001b[?25l  Downloading https://files.pythonhosted.org/packages/71/e3/19762fdfc62877ae9102edf6342d71b28fbfd9dea3d2f96a882ce099b03f/Keras_Applications-1.0.8-py3-none-any.whl (50kB)\n",
            "\u001b[K     |████████████████████████████████| 51kB 9.1MB/s \n",
            "\u001b[?25hRequirement already satisfied, skipping upgrade: absl-py>=0.7.0 in /usr/local/lib/python3.6/dist-packages (from tensorflow<2.1.0,>=2.0.0->turicreate) (0.10.0)\n",
            "Requirement already satisfied, skipping upgrade: wrapt>=1.11.1 in /usr/local/lib/python3.6/dist-packages (from tensorflow<2.1.0,>=2.0.0->turicreate) (1.12.1)\n",
            "Collecting gast==0.2.2\n",
            "  Downloading https://files.pythonhosted.org/packages/4e/35/11749bf99b2d4e3cceb4d55ca22590b0d7c2c62b9de38ac4a4a7f4687421/gast-0.2.2.tar.gz\n",
            "Requirement already satisfied, skipping upgrade: opt-einsum>=2.3.2 in /usr/local/lib/python3.6/dist-packages (from tensorflow<2.1.0,>=2.0.0->turicreate) (3.3.0)\n",
            "Requirement already satisfied, skipping upgrade: google-pasta>=0.1.6 in /usr/local/lib/python3.6/dist-packages (from tensorflow<2.1.0,>=2.0.0->turicreate) (0.2.0)\n",
            "Collecting tensorflow-estimator<2.1.0,>=2.0.0\n",
            "\u001b[?25l  Downloading https://files.pythonhosted.org/packages/fc/08/8b927337b7019c374719145d1dceba21a8bb909b93b1ad6f8fb7d22c1ca1/tensorflow_estimator-2.0.1-py2.py3-none-any.whl (449kB)\n",
            "\u001b[K     |████████████████████████████████| 450kB 47.2MB/s \n",
            "\u001b[?25hRequirement already satisfied, skipping upgrade: grpcio>=1.8.6 in /usr/local/lib/python3.6/dist-packages (from tensorflow<2.1.0,>=2.0.0->turicreate) (1.34.0)\n",
            "Requirement already satisfied, skipping upgrade: keras-preprocessing>=1.0.5 in /usr/local/lib/python3.6/dist-packages (from tensorflow<2.1.0,>=2.0.0->turicreate) (1.1.2)\n",
            "Requirement already satisfied, skipping upgrade: pytz>=2017.2 in /usr/local/lib/python3.6/dist-packages (from pandas>=0.23.2->turicreate) (2018.9)\n",
            "Requirement already satisfied, skipping upgrade: python-dateutil>=2.7.3 in /usr/local/lib/python3.6/dist-packages (from pandas>=0.23.2->turicreate) (2.8.1)\n",
            "Requirement already satisfied, skipping upgrade: werkzeug>=0.11.15 in /usr/local/lib/python3.6/dist-packages (from tensorboard<2.1.0,>=2.0.0->tensorflow<2.1.0,>=2.0.0->turicreate) (1.0.1)\n",
            "Requirement already satisfied, skipping upgrade: google-auth-oauthlib<0.5,>=0.4.1 in /usr/local/lib/python3.6/dist-packages (from tensorboard<2.1.0,>=2.0.0->tensorflow<2.1.0,>=2.0.0->turicreate) (0.4.2)\n",
            "Requirement already satisfied, skipping upgrade: markdown>=2.6.8 in /usr/local/lib/python3.6/dist-packages (from tensorboard<2.1.0,>=2.0.0->tensorflow<2.1.0,>=2.0.0->turicreate) (3.3.3)\n",
            "Requirement already satisfied, skipping upgrade: google-auth<2,>=1.6.3 in /usr/local/lib/python3.6/dist-packages (from tensorboard<2.1.0,>=2.0.0->tensorflow<2.1.0,>=2.0.0->turicreate) (1.17.2)\n",
            "Requirement already satisfied, skipping upgrade: h5py in /usr/local/lib/python3.6/dist-packages (from keras-applications>=1.0.8->tensorflow<2.1.0,>=2.0.0->turicreate) (2.10.0)\n",
            "Requirement already satisfied, skipping upgrade: requests-oauthlib>=0.7.0 in /usr/local/lib/python3.6/dist-packages (from google-auth-oauthlib<0.5,>=0.4.1->tensorboard<2.1.0,>=2.0.0->tensorflow<2.1.0,>=2.0.0->turicreate) (1.3.0)\n",
            "Requirement already satisfied, skipping upgrade: importlib-metadata; python_version < \"3.8\" in /usr/local/lib/python3.6/dist-packages (from markdown>=2.6.8->tensorboard<2.1.0,>=2.0.0->tensorflow<2.1.0,>=2.0.0->turicreate) (3.1.1)\n",
            "Requirement already satisfied, skipping upgrade: pyasn1-modules>=0.2.1 in /usr/local/lib/python3.6/dist-packages (from google-auth<2,>=1.6.3->tensorboard<2.1.0,>=2.0.0->tensorflow<2.1.0,>=2.0.0->turicreate) (0.2.8)\n",
            "Requirement already satisfied, skipping upgrade: cachetools<5.0,>=2.0.0 in /usr/local/lib/python3.6/dist-packages (from google-auth<2,>=1.6.3->tensorboard<2.1.0,>=2.0.0->tensorflow<2.1.0,>=2.0.0->turicreate) (4.1.1)\n",
            "Requirement already satisfied, skipping upgrade: rsa<5,>=3.1.4; python_version >= \"3\" in /usr/local/lib/python3.6/dist-packages (from google-auth<2,>=1.6.3->tensorboard<2.1.0,>=2.0.0->tensorflow<2.1.0,>=2.0.0->turicreate) (4.6)\n",
            "Requirement already satisfied, skipping upgrade: oauthlib>=3.0.0 in /usr/local/lib/python3.6/dist-packages (from requests-oauthlib>=0.7.0->google-auth-oauthlib<0.5,>=0.4.1->tensorboard<2.1.0,>=2.0.0->tensorflow<2.1.0,>=2.0.0->turicreate) (3.1.0)\n",
            "Requirement already satisfied, skipping upgrade: zipp>=0.5 in /usr/local/lib/python3.6/dist-packages (from importlib-metadata; python_version < \"3.8\"->markdown>=2.6.8->tensorboard<2.1.0,>=2.0.0->tensorflow<2.1.0,>=2.0.0->turicreate) (3.4.0)\n",
            "Requirement already satisfied, skipping upgrade: pyasn1<0.5.0,>=0.4.6 in /usr/local/lib/python3.6/dist-packages (from pyasn1-modules>=0.2.1->google-auth<2,>=1.6.3->tensorboard<2.1.0,>=2.0.0->tensorflow<2.1.0,>=2.0.0->turicreate) (0.4.8)\n",
            "Building wheels for collected packages: prettytable, resampy, gast\n",
            "  Building wheel for prettytable (setup.py) ... \u001b[?25l\u001b[?25hdone\n",
            "  Created wheel for prettytable: filename=prettytable-0.7.2-cp36-none-any.whl size=13700 sha256=e0482484ae57d55c44af8c774648d466f2c8cc4c58b0419af6346cf734b2eea1\n",
            "  Stored in directory: /root/.cache/pip/wheels/80/34/1c/3967380d9676d162cb59513bd9dc862d0584e045a162095606\n",
            "  Building wheel for resampy (setup.py) ... \u001b[?25l\u001b[?25hdone\n",
            "  Created wheel for resampy: filename=resampy-0.2.1-cp36-none-any.whl size=320847 sha256=6acd599a801571ffca6cf9e0c033be081a2531e3221075f38e5c1fbbaf9e17b2\n",
            "  Stored in directory: /root/.cache/pip/wheels/ff/4f/ed/2e6c676c23efe5394bb40ade50662e90eb46e29b48324c5f9b\n",
            "  Building wheel for gast (setup.py) ... \u001b[?25l\u001b[?25hdone\n",
            "  Created wheel for gast: filename=gast-0.2.2-cp36-none-any.whl size=7542 sha256=e8547eb1b5e781782eac3812945d17c9378b924f4361eefe6bdc04880d5d811b\n",
            "  Stored in directory: /root/.cache/pip/wheels/5c/2e/7e/a1d4d4fcebe6c381f378ce7743a3ced3699feb89bcfbdadadd\n",
            "Successfully built prettytable resampy gast\n",
            "\u001b[31mERROR: tensorflow-probability 0.11.0 has requirement gast>=0.3.2, but you'll have gast 0.2.2 which is incompatible.\u001b[0m\n",
            "Installing collected packages: coremltools, prettytable, resampy, tensorboard, keras-applications, gast, tensorflow-estimator, tensorflow, turicreate\n",
            "  Found existing installation: prettytable 2.0.0\n",
            "    Uninstalling prettytable-2.0.0:\n",
            "      Successfully uninstalled prettytable-2.0.0\n",
            "  Found existing installation: resampy 0.2.2\n",
            "    Uninstalling resampy-0.2.2:\n",
            "      Successfully uninstalled resampy-0.2.2\n",
            "  Found existing installation: tensorboard 2.3.0\n",
            "    Uninstalling tensorboard-2.3.0:\n",
            "      Successfully uninstalled tensorboard-2.3.0\n",
            "  Found existing installation: gast 0.3.3\n",
            "    Uninstalling gast-0.3.3:\n",
            "      Successfully uninstalled gast-0.3.3\n",
            "  Found existing installation: tensorflow-estimator 2.3.0\n",
            "    Uninstalling tensorflow-estimator-2.3.0:\n",
            "      Successfully uninstalled tensorflow-estimator-2.3.0\n",
            "  Found existing installation: tensorflow 2.3.0\n",
            "    Uninstalling tensorflow-2.3.0:\n",
            "      Successfully uninstalled tensorflow-2.3.0\n",
            "Successfully installed coremltools-3.3 gast-0.2.2 keras-applications-1.0.8 prettytable-0.7.2 resampy-0.2.1 tensorboard-2.0.2 tensorflow-2.0.3 tensorflow-estimator-2.0.1 turicreate-6.4.1\n"
          ],
          "name": "stdout"
        }
      ]
    },
    {
      "cell_type": "code",
      "metadata": {
        "id": "omdEjKSf_hEh",
        "colab": {
          "base_uri": "https://localhost:8080/"
        },
        "outputId": "99f11d88-a43a-40ce-fab2-9c3ab6bdd63d"
      },
      "source": [
        "pip install surprise"
      ],
      "execution_count": null,
      "outputs": [
        {
          "output_type": "stream",
          "text": [
            "Collecting surprise\n",
            "  Downloading https://files.pythonhosted.org/packages/61/de/e5cba8682201fcf9c3719a6fdda95693468ed061945493dea2dd37c5618b/surprise-0.1-py2.py3-none-any.whl\n",
            "Collecting scikit-surprise\n",
            "\u001b[?25l  Downloading https://files.pythonhosted.org/packages/97/37/5d334adaf5ddd65da99fc65f6507e0e4599d092ba048f4302fe8775619e8/scikit-surprise-1.1.1.tar.gz (11.8MB)\n",
            "\u001b[K     |████████████████████████████████| 11.8MB 245kB/s \n",
            "\u001b[?25hRequirement already satisfied: joblib>=0.11 in /usr/local/lib/python3.6/dist-packages (from scikit-surprise->surprise) (0.17.0)\n",
            "Requirement already satisfied: numpy>=1.11.2 in /usr/local/lib/python3.6/dist-packages (from scikit-surprise->surprise) (1.18.5)\n",
            "Requirement already satisfied: scipy>=1.0.0 in /usr/local/lib/python3.6/dist-packages (from scikit-surprise->surprise) (1.4.1)\n",
            "Requirement already satisfied: six>=1.10.0 in /usr/local/lib/python3.6/dist-packages (from scikit-surprise->surprise) (1.15.0)\n",
            "Building wheels for collected packages: scikit-surprise\n",
            "  Building wheel for scikit-surprise (setup.py) ... \u001b[?25l\u001b[?25hdone\n",
            "  Created wheel for scikit-surprise: filename=scikit_surprise-1.1.1-cp36-cp36m-linux_x86_64.whl size=1670908 sha256=c547de150f59096cae5ce94dafb6d501ca38a99be14f9209da722867f6a16b18\n",
            "  Stored in directory: /root/.cache/pip/wheels/78/9c/3d/41b419c9d2aff5b6e2b4c0fc8d25c538202834058f9ed110d0\n",
            "Successfully built scikit-surprise\n",
            "Installing collected packages: scikit-surprise, surprise\n",
            "Successfully installed scikit-surprise-1.1.1 surprise-0.1\n"
          ],
          "name": "stdout"
        }
      ]
    },
    {
      "cell_type": "code",
      "metadata": {
        "id": "HvCGzUmDne3D"
      },
      "source": [
        "from numpy import mean\n",
        "from numpy import std\n",
        "from sklearn.datasets import make_classification\n",
        "from sklearn.model_selection import cross_val_score\n",
        "from sklearn.model_selection import RepeatedStratifiedKFold\n",
        "from sklearn.pipeline import Pipeline\n",
        "from sklearn.decomposition import TruncatedSVD\n",
        "from sklearn.linear_model import LogisticRegression\n",
        "from surprise import Reader\n",
        "from surprise import Dataset"
      ],
      "execution_count": null,
      "outputs": []
    },
    {
      "cell_type": "code",
      "metadata": {
        "id": "o6CwsiRIol_a"
      },
      "source": [
        "triplets_file = 'https://static.turi.com/datasets/millionsong/10000.txt'\n",
        "triplets = pd.read_table(triplets_file,header=None)\n",
        "triplets.columns = ['user','song','play_count']"
      ],
      "execution_count": null,
      "outputs": []
    },
    {
      "cell_type": "code",
      "metadata": {
        "colab": {
          "base_uri": "https://localhost:8080/",
          "height": 142
        },
        "id": "X2jg8LuNH4Aj",
        "outputId": "f4d315fa-b182-449b-f76b-896c492a918b"
      },
      "source": [
        "triplets.head(3)"
      ],
      "execution_count": null,
      "outputs": [
        {
          "output_type": "execute_result",
          "data": {
            "text/html": [
              "<div>\n",
              "<style scoped>\n",
              "    .dataframe tbody tr th:only-of-type {\n",
              "        vertical-align: middle;\n",
              "    }\n",
              "\n",
              "    .dataframe tbody tr th {\n",
              "        vertical-align: top;\n",
              "    }\n",
              "\n",
              "    .dataframe thead th {\n",
              "        text-align: right;\n",
              "    }\n",
              "</style>\n",
              "<table border=\"1\" class=\"dataframe\">\n",
              "  <thead>\n",
              "    <tr style=\"text-align: right;\">\n",
              "      <th></th>\n",
              "      <th>user</th>\n",
              "      <th>song</th>\n",
              "      <th>play_count</th>\n",
              "    </tr>\n",
              "  </thead>\n",
              "  <tbody>\n",
              "    <tr>\n",
              "      <th>0</th>\n",
              "      <td>b80344d063b5ccb3212f76538f3d9e43d87dca9e</td>\n",
              "      <td>SOAKIMP12A8C130995</td>\n",
              "      <td>1</td>\n",
              "    </tr>\n",
              "    <tr>\n",
              "      <th>1</th>\n",
              "      <td>b80344d063b5ccb3212f76538f3d9e43d87dca9e</td>\n",
              "      <td>SOBBMDR12A8C13253B</td>\n",
              "      <td>2</td>\n",
              "    </tr>\n",
              "    <tr>\n",
              "      <th>2</th>\n",
              "      <td>b80344d063b5ccb3212f76538f3d9e43d87dca9e</td>\n",
              "      <td>SOBXHDL12A81C204C0</td>\n",
              "      <td>1</td>\n",
              "    </tr>\n",
              "  </tbody>\n",
              "</table>\n",
              "</div>"
            ],
            "text/plain": [
              "                                       user                song  play_count\n",
              "0  b80344d063b5ccb3212f76538f3d9e43d87dca9e  SOAKIMP12A8C130995           1\n",
              "1  b80344d063b5ccb3212f76538f3d9e43d87dca9e  SOBBMDR12A8C13253B           2\n",
              "2  b80344d063b5ccb3212f76538f3d9e43d87dca9e  SOBXHDL12A81C204C0           1"
            ]
          },
          "metadata": {
            "tags": []
          },
          "execution_count": 7
        }
      ]
    },
    {
      "cell_type": "code",
      "metadata": {
        "id": "r82ooo6qo9I4"
      },
      "source": [
        "songs_metadata_file = 'https://static.turi.com/datasets/millionsong/song_data.csv'\n",
        "song_df =  pd.read_csv(songs_metadata_file)"
      ],
      "execution_count": null,
      "outputs": []
    },
    {
      "cell_type": "code",
      "metadata": {
        "colab": {
          "base_uri": "https://localhost:8080/",
          "height": 142
        },
        "id": "CWt3hHtaH7wD",
        "outputId": "9c0cd07d-73e0-4ba1-e481-ed2bdd64dcc4"
      },
      "source": [
        "song_df.head(3)"
      ],
      "execution_count": null,
      "outputs": [
        {
          "output_type": "execute_result",
          "data": {
            "text/html": [
              "<div>\n",
              "<style scoped>\n",
              "    .dataframe tbody tr th:only-of-type {\n",
              "        vertical-align: middle;\n",
              "    }\n",
              "\n",
              "    .dataframe tbody tr th {\n",
              "        vertical-align: top;\n",
              "    }\n",
              "\n",
              "    .dataframe thead th {\n",
              "        text-align: right;\n",
              "    }\n",
              "</style>\n",
              "<table border=\"1\" class=\"dataframe\">\n",
              "  <thead>\n",
              "    <tr style=\"text-align: right;\">\n",
              "      <th></th>\n",
              "      <th>song_id</th>\n",
              "      <th>title</th>\n",
              "      <th>release</th>\n",
              "      <th>artist_name</th>\n",
              "      <th>year</th>\n",
              "    </tr>\n",
              "  </thead>\n",
              "  <tbody>\n",
              "    <tr>\n",
              "      <th>0</th>\n",
              "      <td>SOQMMHC12AB0180CB8</td>\n",
              "      <td>Silent Night</td>\n",
              "      <td>Monster Ballads X-Mas</td>\n",
              "      <td>Faster Pussy cat</td>\n",
              "      <td>2003</td>\n",
              "    </tr>\n",
              "    <tr>\n",
              "      <th>1</th>\n",
              "      <td>SOVFVAK12A8C1350D9</td>\n",
              "      <td>Tanssi vaan</td>\n",
              "      <td>Karkuteillä</td>\n",
              "      <td>Karkkiautomaatti</td>\n",
              "      <td>1995</td>\n",
              "    </tr>\n",
              "    <tr>\n",
              "      <th>2</th>\n",
              "      <td>SOGTUKN12AB017F4F1</td>\n",
              "      <td>No One Could Ever</td>\n",
              "      <td>Butter</td>\n",
              "      <td>Hudson Mohawke</td>\n",
              "      <td>2006</td>\n",
              "    </tr>\n",
              "  </tbody>\n",
              "</table>\n",
              "</div>"
            ],
            "text/plain": [
              "              song_id              title  ...       artist_name  year\n",
              "0  SOQMMHC12AB0180CB8       Silent Night  ...  Faster Pussy cat  2003\n",
              "1  SOVFVAK12A8C1350D9        Tanssi vaan  ...  Karkkiautomaatti  1995\n",
              "2  SOGTUKN12AB017F4F1  No One Could Ever  ...    Hudson Mohawke  2006\n",
              "\n",
              "[3 rows x 5 columns]"
            ]
          },
          "metadata": {
            "tags": []
          },
          "execution_count": 8
        }
      ]
    },
    {
      "cell_type": "code",
      "metadata": {
        "id": "rbvLfTXiZpxH"
      },
      "source": [
        "user_song_list_count = pd.merge(triplets, song_df, how='left', left_on='song', right_on='song_id')\n",
        "user_song_list_count.rename(columns={'play_count':'listen_count'},inplace=True)\n",
        "del(user_song_list_count['song_id'])"
      ],
      "execution_count": null,
      "outputs": []
    },
    {
      "cell_type": "code",
      "metadata": {
        "colab": {
          "base_uri": "https://localhost:8080/",
          "height": 142
        },
        "id": "a8UmEJ7aIAOz",
        "outputId": "adcb7f4b-e63c-4c64-89ca-b67cfc0eb231"
      },
      "source": [
        "user_song_list_count.head(3)"
      ],
      "execution_count": null,
      "outputs": [
        {
          "output_type": "execute_result",
          "data": {
            "text/html": [
              "<div>\n",
              "<style scoped>\n",
              "    .dataframe tbody tr th:only-of-type {\n",
              "        vertical-align: middle;\n",
              "    }\n",
              "\n",
              "    .dataframe tbody tr th {\n",
              "        vertical-align: top;\n",
              "    }\n",
              "\n",
              "    .dataframe thead th {\n",
              "        text-align: right;\n",
              "    }\n",
              "</style>\n",
              "<table border=\"1\" class=\"dataframe\">\n",
              "  <thead>\n",
              "    <tr style=\"text-align: right;\">\n",
              "      <th></th>\n",
              "      <th>user</th>\n",
              "      <th>song</th>\n",
              "      <th>listen_count</th>\n",
              "      <th>title</th>\n",
              "      <th>release</th>\n",
              "      <th>artist_name</th>\n",
              "      <th>year</th>\n",
              "    </tr>\n",
              "  </thead>\n",
              "  <tbody>\n",
              "    <tr>\n",
              "      <th>0</th>\n",
              "      <td>b80344d063b5ccb3212f76538f3d9e43d87dca9e</td>\n",
              "      <td>SOAKIMP12A8C130995</td>\n",
              "      <td>1</td>\n",
              "      <td>The Cove</td>\n",
              "      <td>Thicker Than Water</td>\n",
              "      <td>Jack Johnson</td>\n",
              "      <td>0</td>\n",
              "    </tr>\n",
              "    <tr>\n",
              "      <th>1</th>\n",
              "      <td>b80344d063b5ccb3212f76538f3d9e43d87dca9e</td>\n",
              "      <td>SOBBMDR12A8C13253B</td>\n",
              "      <td>2</td>\n",
              "      <td>Entre Dos Aguas</td>\n",
              "      <td>Flamenco Para Niños</td>\n",
              "      <td>Paco De Lucia</td>\n",
              "      <td>1976</td>\n",
              "    </tr>\n",
              "    <tr>\n",
              "      <th>2</th>\n",
              "      <td>b80344d063b5ccb3212f76538f3d9e43d87dca9e</td>\n",
              "      <td>SOBXHDL12A81C204C0</td>\n",
              "      <td>1</td>\n",
              "      <td>Stronger</td>\n",
              "      <td>Graduation</td>\n",
              "      <td>Kanye West</td>\n",
              "      <td>2007</td>\n",
              "    </tr>\n",
              "  </tbody>\n",
              "</table>\n",
              "</div>"
            ],
            "text/plain": [
              "                                       user  ...  year\n",
              "0  b80344d063b5ccb3212f76538f3d9e43d87dca9e  ...     0\n",
              "1  b80344d063b5ccb3212f76538f3d9e43d87dca9e  ...  1976\n",
              "2  b80344d063b5ccb3212f76538f3d9e43d87dca9e  ...  2007\n",
              "\n",
              "[3 rows x 7 columns]"
            ]
          },
          "metadata": {
            "tags": []
          },
          "execution_count": 10
        }
      ]
    },
    {
      "cell_type": "code",
      "metadata": {
        "id": "y1rAq0oXnvSU"
      },
      "source": [
        "user_song_list_listen = user_song_list_count[['user','listen_count']].groupby('user').sum().reset_index()\n",
        "user_song_list_listen.rename(columns={'listen_count':'total_listen_count'},inplace=True)\n",
        "user_song_list_count_merged = pd.merge(user_song_list_count,user_song_list_listen)\n",
        "user_song_list_count_merged['fractional_play_count'] = \\\n",
        "    user_song_list_count_merged['listen_count']/user_song_list_count_merged['total_listen_count']"
      ],
      "execution_count": null,
      "outputs": []
    },
    {
      "cell_type": "code",
      "metadata": {
        "colab": {
          "base_uri": "https://localhost:8080/",
          "height": 142
        },
        "id": "x6O7q5zQIDfM",
        "outputId": "ed2bf772-22e9-45e3-a953-7285b95f99e6"
      },
      "source": [
        "user_song_list_count_merged.head(3)"
      ],
      "execution_count": null,
      "outputs": [
        {
          "output_type": "execute_result",
          "data": {
            "text/html": [
              "<div>\n",
              "<style scoped>\n",
              "    .dataframe tbody tr th:only-of-type {\n",
              "        vertical-align: middle;\n",
              "    }\n",
              "\n",
              "    .dataframe tbody tr th {\n",
              "        vertical-align: top;\n",
              "    }\n",
              "\n",
              "    .dataframe thead th {\n",
              "        text-align: right;\n",
              "    }\n",
              "</style>\n",
              "<table border=\"1\" class=\"dataframe\">\n",
              "  <thead>\n",
              "    <tr style=\"text-align: right;\">\n",
              "      <th></th>\n",
              "      <th>user</th>\n",
              "      <th>song</th>\n",
              "      <th>listen_count</th>\n",
              "      <th>title</th>\n",
              "      <th>release</th>\n",
              "      <th>artist_name</th>\n",
              "      <th>year</th>\n",
              "      <th>total_listen_count</th>\n",
              "      <th>fractional_play_count</th>\n",
              "    </tr>\n",
              "  </thead>\n",
              "  <tbody>\n",
              "    <tr>\n",
              "      <th>0</th>\n",
              "      <td>b80344d063b5ccb3212f76538f3d9e43d87dca9e</td>\n",
              "      <td>SOAKIMP12A8C130995</td>\n",
              "      <td>1</td>\n",
              "      <td>The Cove</td>\n",
              "      <td>Thicker Than Water</td>\n",
              "      <td>Jack Johnson</td>\n",
              "      <td>0</td>\n",
              "      <td>72</td>\n",
              "      <td>0.013889</td>\n",
              "    </tr>\n",
              "    <tr>\n",
              "      <th>1</th>\n",
              "      <td>b80344d063b5ccb3212f76538f3d9e43d87dca9e</td>\n",
              "      <td>SOBBMDR12A8C13253B</td>\n",
              "      <td>2</td>\n",
              "      <td>Entre Dos Aguas</td>\n",
              "      <td>Flamenco Para Niños</td>\n",
              "      <td>Paco De Lucia</td>\n",
              "      <td>1976</td>\n",
              "      <td>72</td>\n",
              "      <td>0.027778</td>\n",
              "    </tr>\n",
              "    <tr>\n",
              "      <th>2</th>\n",
              "      <td>b80344d063b5ccb3212f76538f3d9e43d87dca9e</td>\n",
              "      <td>SOBXHDL12A81C204C0</td>\n",
              "      <td>1</td>\n",
              "      <td>Stronger</td>\n",
              "      <td>Graduation</td>\n",
              "      <td>Kanye West</td>\n",
              "      <td>2007</td>\n",
              "      <td>72</td>\n",
              "      <td>0.013889</td>\n",
              "    </tr>\n",
              "  </tbody>\n",
              "</table>\n",
              "</div>"
            ],
            "text/plain": [
              "                                       user  ... fractional_play_count\n",
              "0  b80344d063b5ccb3212f76538f3d9e43d87dca9e  ...              0.013889\n",
              "1  b80344d063b5ccb3212f76538f3d9e43d87dca9e  ...              0.027778\n",
              "2  b80344d063b5ccb3212f76538f3d9e43d87dca9e  ...              0.013889\n",
              "\n",
              "[3 rows x 9 columns]"
            ]
          },
          "metadata": {
            "tags": []
          },
          "execution_count": 12
        }
      ]
    },
    {
      "cell_type": "code",
      "metadata": {
        "id": "dGZ7oHQ0Z3ax",
        "colab": {
          "base_uri": "https://localhost:8080/",
          "height": 802
        },
        "outputId": "f777365c-0d21-4637-90bc-d608700ffcbb"
      },
      "source": [
        "import matplotlib.pyplot as plt\n",
        "\n",
        "fig = plt.figure(figsize=(50, 25))\n",
        "a1 = fig.add_subplot(221)\n",
        "popular_songs = user_song_list_count[['title','listen_count']].groupby('title').sum().\\\n",
        "                sort_values('listen_count', ascending=False).head(20).sort_values('listen_count')\n",
        "f1 = popular_songs.plot(kind='barh', title='Top 20 Most Popular Songs', legend=False, ax=a1)\n",
        "plt.xticks(rotation='vertical')\n",
        "plt.ylabel('Item count')\n",
        "\n",
        "a2 = fig.add_subplot(222)\n",
        "popular_release = user_song_list_count[['release','listen_count']].groupby('release').sum().\\\n",
        "                sort_values('listen_count', ascending=False).head(20).sort_values('listen_count')\n",
        "f2 = popular_release.plot(kind='barh', title='Top 20 Most Popular Releases', legend=False, ax=a2)\n",
        "plt.xticks(rotation='vertical')\n",
        "plt.ylabel('Item count')\n",
        "\n",
        "a3 = fig.add_subplot(223)\n",
        "popular_artist = user_song_list_count[['artist_name','listen_count']].groupby('artist_name').sum().\\\n",
        "                sort_values('listen_count', ascending=False).head(20).sort_values('listen_count')\n",
        "f1 = popular_artist.plot(kind='barh', title='Top 20 Most Popular Artists', legend=False, ax=a3)\n",
        "plt.xticks(rotation='vertical')\n",
        "plt.ylabel('Item count')\n",
        "\n",
        "a4 = fig.add_subplot(224)\n",
        "popular_year = user_song_list_count[['year','listen_count']].groupby('year').sum().\\\n",
        "                sort_values('listen_count', ascending=False).head(20).sort_values('listen_count')\n",
        "f1 = popular_year.plot(kind='barh', title='Top 20 Most Popular Years of Song Listen', legend=False, ax=a4)\n",
        "plt.xticks(rotation='vertical')\n",
        "plt.ylabel('Item count')\n",
        "\n",
        "plt.show()"
      ],
      "execution_count": null,
      "outputs": [
        {
          "output_type": "display_data",
          "data": {
            "image/png": "[encoded data removed]",
            "text/plain": [
              "<Figure size 3600x1800 with 4 Axes>"
            ]
          },
          "metadata": {
            "tags": [],
            "needs_background": "light"
          }
        }
      ]
    },
    {
      "cell_type": "code",
      "metadata": {
        "id": "RNgswFBuQtrF",
        "colab": {
          "base_uri": "https://localhost:8080/",
          "height": 142
        },
        "outputId": "1afb3165-9033-48c1-d93a-87e27936c846"
      },
      "source": [
        "train_data, test_data = train_test_split(user_song_list_count_merged, test_size = 0.30, random_state=0)\n",
        "(train_data.head(3))"
      ],
      "execution_count": null,
      "outputs": [
        {
          "output_type": "execute_result",
          "data": {
            "text/html": [
              "<div>\n",
              "<style scoped>\n",
              "    .dataframe tbody tr th:only-of-type {\n",
              "        vertical-align: middle;\n",
              "    }\n",
              "\n",
              "    .dataframe tbody tr th {\n",
              "        vertical-align: top;\n",
              "    }\n",
              "\n",
              "    .dataframe thead th {\n",
              "        text-align: right;\n",
              "    }\n",
              "</style>\n",
              "<table border=\"1\" class=\"dataframe\">\n",
              "  <thead>\n",
              "    <tr style=\"text-align: right;\">\n",
              "      <th></th>\n",
              "      <th>user</th>\n",
              "      <th>song</th>\n",
              "      <th>listen_count</th>\n",
              "      <th>title</th>\n",
              "      <th>release</th>\n",
              "      <th>artist_name</th>\n",
              "      <th>year</th>\n",
              "      <th>total_listen_count</th>\n",
              "      <th>fractional_play_count</th>\n",
              "    </tr>\n",
              "  </thead>\n",
              "  <tbody>\n",
              "    <tr>\n",
              "      <th>1720363</th>\n",
              "      <td>edd62b0bf139a5064632c552bb7772ad2387fc96</td>\n",
              "      <td>SOXDHSF12A6BD4D3BD</td>\n",
              "      <td>36</td>\n",
              "      <td>Writer's Block</td>\n",
              "      <td>Overtones</td>\n",
              "      <td>Just Jack</td>\n",
              "      <td>2006</td>\n",
              "      <td>404</td>\n",
              "      <td>0.089109</td>\n",
              "    </tr>\n",
              "    <tr>\n",
              "      <th>1441119</th>\n",
              "      <td>7ede8b5cf33accf5397ceb6bc9b06a795338bbe3</td>\n",
              "      <td>SOBADLL12A6D4F8FEA</td>\n",
              "      <td>4</td>\n",
              "      <td>If You're Not The One</td>\n",
              "      <td>Gotta Get Thru This</td>\n",
              "      <td>Daniel Bedingfield</td>\n",
              "      <td>2002</td>\n",
              "      <td>17</td>\n",
              "      <td>0.235294</td>\n",
              "    </tr>\n",
              "    <tr>\n",
              "      <th>1109974</th>\n",
              "      <td>93f10d7bf7147aa2a783e0c3066b0462f9c16457</td>\n",
              "      <td>SOELORO12A8C1358DE</td>\n",
              "      <td>1</td>\n",
              "      <td>Throw Me A Rope</td>\n",
              "      <td>False Alarm EP</td>\n",
              "      <td>KT Tunstall</td>\n",
              "      <td>2004</td>\n",
              "      <td>760</td>\n",
              "      <td>0.001316</td>\n",
              "    </tr>\n",
              "  </tbody>\n",
              "</table>\n",
              "</div>"
            ],
            "text/plain": [
              "                                             user  ... fractional_play_count\n",
              "1720363  edd62b0bf139a5064632c552bb7772ad2387fc96  ...              0.089109\n",
              "1441119  7ede8b5cf33accf5397ceb6bc9b06a795338bbe3  ...              0.235294\n",
              "1109974  93f10d7bf7147aa2a783e0c3066b0462f9c16457  ...              0.001316\n",
              "\n",
              "[3 rows x 9 columns]"
            ]
          },
          "metadata": {
            "tags": []
          },
          "execution_count": 13
        }
      ]
    },
    {
      "cell_type": "code",
      "metadata": {
        "id": "JZr_DSMgNdxa"
      },
      "source": [
        "import turicreate\n",
        "train_data = turicreate.SFrame(train_data)\n",
        "test_data = turicreate.SFrame(test_data)"
      ],
      "execution_count": null,
      "outputs": []
    },
    {
      "cell_type": "markdown",
      "metadata": {
        "id": "0ksAq77GG2XT"
      },
      "source": [
        "**Popularity**"
      ]
    },
    {
      "cell_type": "code",
      "metadata": {
        "colab": {
          "base_uri": "https://localhost:8080/",
          "height": 119
        },
        "id": "WbvmoxeQNfJ1",
        "outputId": "2a4b2a68-d308-41f2-8668-8b472ee2c0f2"
      },
      "source": [
        "popularity_model = turicreate.recommender.popularity_recommender.create(train_data, user_id='user', item_id='song', target='listen_count')"
      ],
      "execution_count": null,
      "outputs": [
        {
          "output_type": "display_data",
          "data": {
            "text/html": [
              "<pre>Warning: Ignoring columns title, release, artist_name, year, total_listen_count, fractional_play_count;</pre>"
            ],
            "text/plain": [
              "Warning: Ignoring columns title, release, artist_name, year, total_listen_count, fractional_play_count;"
            ]
          },
          "metadata": {
            "tags": []
          }
        },
        {
          "output_type": "display_data",
          "data": {
            "text/html": [
              "<pre>    To use these columns in scoring predictions, use a model that allows the use of additional features.</pre>"
            ],
            "text/plain": [
              "    To use these columns in scoring predictions, use a model that allows the use of additional features."
            ]
          },
          "metadata": {
            "tags": []
          }
        },
        {
          "output_type": "display_data",
          "data": {
            "text/html": [
              "<pre>Preparing data set.</pre>"
            ],
            "text/plain": [
              "Preparing data set."
            ]
          },
          "metadata": {
            "tags": []
          }
        },
        {
          "output_type": "display_data",
          "data": {
            "text/html": [
              "<pre>    Data has 1460862 observations with 75916 users and 10000 items.</pre>"
            ],
            "text/plain": [
              "    Data has 1460862 observations with 75916 users and 10000 items."
            ]
          },
          "metadata": {
            "tags": []
          }
        },
        {
          "output_type": "display_data",
          "data": {
            "text/html": [
              "<pre>    Data prepared in: 2.15606s</pre>"
            ],
            "text/plain": [
              "    Data prepared in: 2.15606s"
            ]
          },
          "metadata": {
            "tags": []
          }
        },
        {
          "output_type": "display_data",
          "data": {
            "text/html": [
              "<pre>1460862 observations to process; with 10000 unique items.</pre>"
            ],
            "text/plain": [
              "1460862 observations to process; with 10000 unique items."
            ]
          },
          "metadata": {
            "tags": []
          }
        }
      ]
    },
    {
      "cell_type": "code",
      "metadata": {
        "colab": {
          "base_uri": "https://localhost:8080/",
          "height": 1000
        },
        "id": "1wa9xWplkEQM",
        "outputId": "d7f94397-db96-43a7-fc6b-45cc8a21b27a"
      },
      "source": [
        "popularity_model.evaluate_precision_recall(test_data)"
      ],
      "execution_count": null,
      "outputs": [
        {
          "output_type": "display_data",
          "data": {
            "text/html": [
              "<pre>recommendations finished on 1000/72713 queries. users per second: 3127.35</pre>"
            ],
            "text/plain": [
              "recommendations finished on 1000/72713 queries. users per second: 3127.35"
            ]
          },
          "metadata": {
            "tags": []
          }
        },
        {
          "output_type": "display_data",
          "data": {
            "text/html": [
              "<pre>recommendations finished on 2000/72713 queries. users per second: 3153.54</pre>"
            ],
            "text/plain": [
              "recommendations finished on 2000/72713 queries. users per second: 3153.54"
            ]
          },
          "metadata": {
            "tags": []
          }
        },
        {
          "output_type": "display_data",
          "data": {
            "text/html": [
              "<pre>recommendations finished on 3000/72713 queries. users per second: 3150.41</pre>"
            ],
            "text/plain": [
              "recommendations finished on 3000/72713 queries. users per second: 3150.41"
            ]
          },
          "metadata": {
            "tags": []
          }
        },
        {
          "output_type": "display_data",
          "data": {
            "text/html": [
              "<pre>recommendations finished on 4000/72713 queries. users per second: 3145.75</pre>"
            ],
            "text/plain": [
              "recommendations finished on 4000/72713 queries. users per second: 3145.75"
            ]
          },
          "metadata": {
            "tags": []
          }
        },
        {
          "output_type": "display_data",
          "data": {
            "text/html": [
              "<pre>recommendations finished on 5000/72713 queries. users per second: 3131.44</pre>"
            ],
            "text/plain": [
              "recommendations finished on 5000/72713 queries. users per second: 3131.44"
            ]
          },
          "metadata": {
            "tags": []
          }
        },
        {
          "output_type": "display_data",
          "data": {
            "text/html": [
              "<pre>recommendations finished on 6000/72713 queries. users per second: 3132.86</pre>"
            ],
            "text/plain": [
              "recommendations finished on 6000/72713 queries. users per second: 3132.86"
            ]
          },
          "metadata": {
            "tags": []
          }
        },
        {
          "output_type": "display_data",
          "data": {
            "text/html": [
              "<pre>recommendations finished on 7000/72713 queries. users per second: 3131.24</pre>"
            ],
            "text/plain": [
              "recommendations finished on 7000/72713 queries. users per second: 3131.24"
            ]
          },
          "metadata": {
            "tags": []
          }
        },
        {
          "output_type": "display_data",
          "data": {
            "text/html": [
              "<pre>recommendations finished on 8000/72713 queries. users per second: 3132.32</pre>"
            ],
            "text/plain": [
              "recommendations finished on 8000/72713 queries. users per second: 3132.32"
            ]
          },
          "metadata": {
            "tags": []
          }
        },
        {
          "output_type": "display_data",
          "data": {
            "text/html": [
              "<pre>recommendations finished on 9000/72713 queries. users per second: 3128.83</pre>"
            ],
            "text/plain": [
              "recommendations finished on 9000/72713 queries. users per second: 3128.83"
            ]
          },
          "metadata": {
            "tags": []
          }
        },
        {
          "output_type": "display_data",
          "data": {
            "text/html": [
              "<pre>recommendations finished on 10000/72713 queries. users per second: 3141.8</pre>"
            ],
            "text/plain": [
              "recommendations finished on 10000/72713 queries. users per second: 3141.8"
            ]
          },
          "metadata": {
            "tags": []
          }
        },
        {
          "output_type": "display_data",
          "data": {
            "text/html": [
              "<pre>recommendations finished on 11000/72713 queries. users per second: 3128.66</pre>"
            ],
            "text/plain": [
              "recommendations finished on 11000/72713 queries. users per second: 3128.66"
            ]
          },
          "metadata": {
            "tags": []
          }
        },
        {
          "output_type": "display_data",
          "data": {
            "text/html": [
              "<pre>recommendations finished on 12000/72713 queries. users per second: 3123.92</pre>"
            ],
            "text/plain": [
              "recommendations finished on 12000/72713 queries. users per second: 3123.92"
            ]
          },
          "metadata": {
            "tags": []
          }
        },
        {
          "output_type": "display_data",
          "data": {
            "text/html": [
              "<pre>recommendations finished on 13000/72713 queries. users per second: 3130.83</pre>"
            ],
            "text/plain": [
              "recommendations finished on 13000/72713 queries. users per second: 3130.83"
            ]
          },
          "metadata": {
            "tags": []
          }
        },
        {
          "output_type": "display_data",
          "data": {
            "text/html": [
              "<pre>recommendations finished on 14000/72713 queries. users per second: 3118.87</pre>"
            ],
            "text/plain": [
              "recommendations finished on 14000/72713 queries. users per second: 3118.87"
            ]
          },
          "metadata": {
            "tags": []
          }
        },
        {
          "output_type": "display_data",
          "data": {
            "text/html": [
              "<pre>recommendations finished on 15000/72713 queries. users per second: 3126.18</pre>"
            ],
            "text/plain": [
              "recommendations finished on 15000/72713 queries. users per second: 3126.18"
            ]
          },
          "metadata": {
            "tags": []
          }
        },
        {
          "output_type": "display_data",
          "data": {
            "text/html": [
              "<pre>recommendations finished on 16000/72713 queries. users per second: 3132.58</pre>"
            ],
            "text/plain": [
              "recommendations finished on 16000/72713 queries. users per second: 3132.58"
            ]
          },
          "metadata": {
            "tags": []
          }
        },
        {
          "output_type": "display_data",
          "data": {
            "text/html": [
              "<pre>recommendations finished on 17000/72713 queries. users per second: 3128.17</pre>"
            ],
            "text/plain": [
              "recommendations finished on 17000/72713 queries. users per second: 3128.17"
            ]
          },
          "metadata": {
            "tags": []
          }
        },
        {
          "output_type": "display_data",
          "data": {
            "text/html": [
              "<pre>recommendations finished on 18000/72713 queries. users per second: 3130.5</pre>"
            ],
            "text/plain": [
              "recommendations finished on 18000/72713 queries. users per second: 3130.5"
            ]
          },
          "metadata": {
            "tags": []
          }
        },
        {
          "output_type": "display_data",
          "data": {
            "text/html": [
              "<pre>recommendations finished on 19000/72713 queries. users per second: 3128.57</pre>"
            ],
            "text/plain": [
              "recommendations finished on 19000/72713 queries. users per second: 3128.57"
            ]
          },
          "metadata": {
            "tags": []
          }
        },
        {
          "output_type": "display_data",
          "data": {
            "text/html": [
              "<pre>recommendations finished on 20000/72713 queries. users per second: 3117.24</pre>"
            ],
            "text/plain": [
              "recommendations finished on 20000/72713 queries. users per second: 3117.24"
            ]
          },
          "metadata": {
            "tags": []
          }
        },
        {
          "output_type": "display_data",
          "data": {
            "text/html": [
              "<pre>recommendations finished on 21000/72713 queries. users per second: 3119.15</pre>"
            ],
            "text/plain": [
              "recommendations finished on 21000/72713 queries. users per second: 3119.15"
            ]
          },
          "metadata": {
            "tags": []
          }
        },
        {
          "output_type": "display_data",
          "data": {
            "text/html": [
              "<pre>recommendations finished on 22000/72713 queries. users per second: 3117.32</pre>"
            ],
            "text/plain": [
              "recommendations finished on 22000/72713 queries. users per second: 3117.32"
            ]
          },
          "metadata": {
            "tags": []
          }
        },
        {
          "output_type": "display_data",
          "data": {
            "text/html": [
              "<pre>recommendations finished on 23000/72713 queries. users per second: 3113.84</pre>"
            ],
            "text/plain": [
              "recommendations finished on 23000/72713 queries. users per second: 3113.84"
            ]
          },
          "metadata": {
            "tags": []
          }
        },
        {
          "output_type": "display_data",
          "data": {
            "text/html": [
              "<pre>recommendations finished on 24000/72713 queries. users per second: 3110.8</pre>"
            ],
            "text/plain": [
              "recommendations finished on 24000/72713 queries. users per second: 3110.8"
            ]
          },
          "metadata": {
            "tags": []
          }
        },
        {
          "output_type": "display_data",
          "data": {
            "text/html": [
              "<pre>recommendations finished on 25000/72713 queries. users per second: 3115.05</pre>"
            ],
            "text/plain": [
              "recommendations finished on 25000/72713 queries. users per second: 3115.05"
            ]
          },
          "metadata": {
            "tags": []
          }
        },
        {
          "output_type": "display_data",
          "data": {
            "text/html": [
              "<pre>recommendations finished on 26000/72713 queries. users per second: 3118.66</pre>"
            ],
            "text/plain": [
              "recommendations finished on 26000/72713 queries. users per second: 3118.66"
            ]
          },
          "metadata": {
            "tags": []
          }
        },
        {
          "output_type": "display_data",
          "data": {
            "text/html": [
              "<pre>recommendations finished on 27000/72713 queries. users per second: 3116.85</pre>"
            ],
            "text/plain": [
              "recommendations finished on 27000/72713 queries. users per second: 3116.85"
            ]
          },
          "metadata": {
            "tags": []
          }
        },
        {
          "output_type": "display_data",
          "data": {
            "text/html": [
              "<pre>recommendations finished on 28000/72713 queries. users per second: 3120.09</pre>"
            ],
            "text/plain": [
              "recommendations finished on 28000/72713 queries. users per second: 3120.09"
            ]
          },
          "metadata": {
            "tags": []
          }
        },
        {
          "output_type": "display_data",
          "data": {
            "text/html": [
              "<pre>recommendations finished on 29000/72713 queries. users per second: 3118.37</pre>"
            ],
            "text/plain": [
              "recommendations finished on 29000/72713 queries. users per second: 3118.37"
            ]
          },
          "metadata": {
            "tags": []
          }
        },
        {
          "output_type": "display_data",
          "data": {
            "text/html": [
              "<pre>recommendations finished on 30000/72713 queries. users per second: 3110.15</pre>"
            ],
            "text/plain": [
              "recommendations finished on 30000/72713 queries. users per second: 3110.15"
            ]
          },
          "metadata": {
            "tags": []
          }
        },
        {
          "output_type": "display_data",
          "data": {
            "text/html": [
              "<pre>recommendations finished on 31000/72713 queries. users per second: 3111.28</pre>"
            ],
            "text/plain": [
              "recommendations finished on 31000/72713 queries. users per second: 3111.28"
            ]
          },
          "metadata": {
            "tags": []
          }
        },
        {
          "output_type": "display_data",
          "data": {
            "text/html": [
              "<pre>recommendations finished on 32000/72713 queries. users per second: 3111.49</pre>"
            ],
            "text/plain": [
              "recommendations finished on 32000/72713 queries. users per second: 3111.49"
            ]
          },
          "metadata": {
            "tags": []
          }
        },
        {
          "output_type": "display_data",
          "data": {
            "text/html": [
              "<pre>recommendations finished on 33000/72713 queries. users per second: 3108.99</pre>"
            ],
            "text/plain": [
              "recommendations finished on 33000/72713 queries. users per second: 3108.99"
            ]
          },
          "metadata": {
            "tags": []
          }
        },
        {
          "output_type": "display_data",
          "data": {
            "text/html": [
              "<pre>recommendations finished on 34000/72713 queries. users per second: 3107.6</pre>"
            ],
            "text/plain": [
              "recommendations finished on 34000/72713 queries. users per second: 3107.6"
            ]
          },
          "metadata": {
            "tags": []
          }
        },
        {
          "output_type": "display_data",
          "data": {
            "text/html": [
              "<pre>recommendations finished on 35000/72713 queries. users per second: 3104.34</pre>"
            ],
            "text/plain": [
              "recommendations finished on 35000/72713 queries. users per second: 3104.34"
            ]
          },
          "metadata": {
            "tags": []
          }
        },
        {
          "output_type": "display_data",
          "data": {
            "text/html": [
              "<pre>recommendations finished on 36000/72713 queries. users per second: 3104.49</pre>"
            ],
            "text/plain": [
              "recommendations finished on 36000/72713 queries. users per second: 3104.49"
            ]
          },
          "metadata": {
            "tags": []
          }
        },
        {
          "output_type": "display_data",
          "data": {
            "text/html": [
              "<pre>recommendations finished on 37000/72713 queries. users per second: 3107.09</pre>"
            ],
            "text/plain": [
              "recommendations finished on 37000/72713 queries. users per second: 3107.09"
            ]
          },
          "metadata": {
            "tags": []
          }
        },
        {
          "output_type": "display_data",
          "data": {
            "text/html": [
              "<pre>recommendations finished on 38000/72713 queries. users per second: 3109.41</pre>"
            ],
            "text/plain": [
              "recommendations finished on 38000/72713 queries. users per second: 3109.41"
            ]
          },
          "metadata": {
            "tags": []
          }
        },
        {
          "output_type": "display_data",
          "data": {
            "text/html": [
              "<pre>recommendations finished on 39000/72713 queries. users per second: 3108.28</pre>"
            ],
            "text/plain": [
              "recommendations finished on 39000/72713 queries. users per second: 3108.28"
            ]
          },
          "metadata": {
            "tags": []
          }
        },
        {
          "output_type": "display_data",
          "data": {
            "text/html": [
              "<pre>recommendations finished on 40000/72713 queries. users per second: 3108.8</pre>"
            ],
            "text/plain": [
              "recommendations finished on 40000/72713 queries. users per second: 3108.8"
            ]
          },
          "metadata": {
            "tags": []
          }
        },
        {
          "output_type": "display_data",
          "data": {
            "text/html": [
              "<pre>recommendations finished on 41000/72713 queries. users per second: 3111.75</pre>"
            ],
            "text/plain": [
              "recommendations finished on 41000/72713 queries. users per second: 3111.75"
            ]
          },
          "metadata": {
            "tags": []
          }
        },
        {
          "output_type": "display_data",
          "data": {
            "text/html": [
              "<pre>recommendations finished on 42000/72713 queries. users per second: 3111.2</pre>"
            ],
            "text/plain": [
              "recommendations finished on 42000/72713 queries. users per second: 3111.2"
            ]
          },
          "metadata": {
            "tags": []
          }
        },
        {
          "output_type": "display_data",
          "data": {
            "text/html": [
              "<pre>recommendations finished on 43000/72713 queries. users per second: 3108.27</pre>"
            ],
            "text/plain": [
              "recommendations finished on 43000/72713 queries. users per second: 3108.27"
            ]
          },
          "metadata": {
            "tags": []
          }
        },
        {
          "output_type": "display_data",
          "data": {
            "text/html": [
              "<pre>recommendations finished on 44000/72713 queries. users per second: 3111.29</pre>"
            ],
            "text/plain": [
              "recommendations finished on 44000/72713 queries. users per second: 3111.29"
            ]
          },
          "metadata": {
            "tags": []
          }
        },
        {
          "output_type": "display_data",
          "data": {
            "text/html": [
              "<pre>recommendations finished on 45000/72713 queries. users per second: 3108.96</pre>"
            ],
            "text/plain": [
              "recommendations finished on 45000/72713 queries. users per second: 3108.96"
            ]
          },
          "metadata": {
            "tags": []
          }
        },
        {
          "output_type": "display_data",
          "data": {
            "text/html": [
              "<pre>recommendations finished on 46000/72713 queries. users per second: 3103.56</pre>"
            ],
            "text/plain": [
              "recommendations finished on 46000/72713 queries. users per second: 3103.56"
            ]
          },
          "metadata": {
            "tags": []
          }
        },
        {
          "output_type": "display_data",
          "data": {
            "text/html": [
              "<pre>recommendations finished on 47000/72713 queries. users per second: 3104.79</pre>"
            ],
            "text/plain": [
              "recommendations finished on 47000/72713 queries. users per second: 3104.79"
            ]
          },
          "metadata": {
            "tags": []
          }
        },
        {
          "output_type": "display_data",
          "data": {
            "text/html": [
              "<pre>recommendations finished on 48000/72713 queries. users per second: 3104.45</pre>"
            ],
            "text/plain": [
              "recommendations finished on 48000/72713 queries. users per second: 3104.45"
            ]
          },
          "metadata": {
            "tags": []
          }
        },
        {
          "output_type": "display_data",
          "data": {
            "text/html": [
              "<pre>recommendations finished on 49000/72713 queries. users per second: 3105.35</pre>"
            ],
            "text/plain": [
              "recommendations finished on 49000/72713 queries. users per second: 3105.35"
            ]
          },
          "metadata": {
            "tags": []
          }
        },
        {
          "output_type": "display_data",
          "data": {
            "text/html": [
              "<pre>recommendations finished on 50000/72713 queries. users per second: 3104.81</pre>"
            ],
            "text/plain": [
              "recommendations finished on 50000/72713 queries. users per second: 3104.81"
            ]
          },
          "metadata": {
            "tags": []
          }
        },
        {
          "output_type": "display_data",
          "data": {
            "text/html": [
              "<pre>recommendations finished on 51000/72713 queries. users per second: 3106.57</pre>"
            ],
            "text/plain": [
              "recommendations finished on 51000/72713 queries. users per second: 3106.57"
            ]
          },
          "metadata": {
            "tags": []
          }
        },
        {
          "output_type": "display_data",
          "data": {
            "text/html": [
              "<pre>recommendations finished on 52000/72713 queries. users per second: 3106.32</pre>"
            ],
            "text/plain": [
              "recommendations finished on 52000/72713 queries. users per second: 3106.32"
            ]
          },
          "metadata": {
            "tags": []
          }
        },
        {
          "output_type": "display_data",
          "data": {
            "text/html": [
              "<pre>recommendations finished on 53000/72713 queries. users per second: 3105.6</pre>"
            ],
            "text/plain": [
              "recommendations finished on 53000/72713 queries. users per second: 3105.6"
            ]
          },
          "metadata": {
            "tags": []
          }
        },
        {
          "output_type": "display_data",
          "data": {
            "text/html": [
              "<pre>recommendations finished on 54000/72713 queries. users per second: 3104.16</pre>"
            ],
            "text/plain": [
              "recommendations finished on 54000/72713 queries. users per second: 3104.16"
            ]
          },
          "metadata": {
            "tags": []
          }
        },
        {
          "output_type": "display_data",
          "data": {
            "text/html": [
              "<pre>recommendations finished on 55000/72713 queries. users per second: 3103.52</pre>"
            ],
            "text/plain": [
              "recommendations finished on 55000/72713 queries. users per second: 3103.52"
            ]
          },
          "metadata": {
            "tags": []
          }
        },
        {
          "output_type": "display_data",
          "data": {
            "text/html": [
              "<pre>recommendations finished on 56000/72713 queries. users per second: 3105.62</pre>"
            ],
            "text/plain": [
              "recommendations finished on 56000/72713 queries. users per second: 3105.62"
            ]
          },
          "metadata": {
            "tags": []
          }
        },
        {
          "output_type": "display_data",
          "data": {
            "text/html": [
              "<pre>recommendations finished on 57000/72713 queries. users per second: 3104.5</pre>"
            ],
            "text/plain": [
              "recommendations finished on 57000/72713 queries. users per second: 3104.5"
            ]
          },
          "metadata": {
            "tags": []
          }
        },
        {
          "output_type": "display_data",
          "data": {
            "text/html": [
              "<pre>recommendations finished on 58000/72713 queries. users per second: 3100.75</pre>"
            ],
            "text/plain": [
              "recommendations finished on 58000/72713 queries. users per second: 3100.75"
            ]
          },
          "metadata": {
            "tags": []
          }
        },
        {
          "output_type": "display_data",
          "data": {
            "text/html": [
              "<pre>recommendations finished on 59000/72713 queries. users per second: 3102.45</pre>"
            ],
            "text/plain": [
              "recommendations finished on 59000/72713 queries. users per second: 3102.45"
            ]
          },
          "metadata": {
            "tags": []
          }
        },
        {
          "output_type": "display_data",
          "data": {
            "text/html": [
              "<pre>recommendations finished on 60000/72713 queries. users per second: 3104.01</pre>"
            ],
            "text/plain": [
              "recommendations finished on 60000/72713 queries. users per second: 3104.01"
            ]
          },
          "metadata": {
            "tags": []
          }
        },
        {
          "output_type": "display_data",
          "data": {
            "text/html": [
              "<pre>recommendations finished on 61000/72713 queries. users per second: 3098.68</pre>"
            ],
            "text/plain": [
              "recommendations finished on 61000/72713 queries. users per second: 3098.68"
            ]
          },
          "metadata": {
            "tags": []
          }
        },
        {
          "output_type": "display_data",
          "data": {
            "text/html": [
              "<pre>recommendations finished on 62000/72713 queries. users per second: 3100.37</pre>"
            ],
            "text/plain": [
              "recommendations finished on 62000/72713 queries. users per second: 3100.37"
            ]
          },
          "metadata": {
            "tags": []
          }
        },
        {
          "output_type": "display_data",
          "data": {
            "text/html": [
              "<pre>recommendations finished on 63000/72713 queries. users per second: 3101.45</pre>"
            ],
            "text/plain": [
              "recommendations finished on 63000/72713 queries. users per second: 3101.45"
            ]
          },
          "metadata": {
            "tags": []
          }
        },
        {
          "output_type": "display_data",
          "data": {
            "text/html": [
              "<pre>recommendations finished on 64000/72713 queries. users per second: 3100.78</pre>"
            ],
            "text/plain": [
              "recommendations finished on 64000/72713 queries. users per second: 3100.78"
            ]
          },
          "metadata": {
            "tags": []
          }
        },
        {
          "output_type": "display_data",
          "data": {
            "text/html": [
              "<pre>recommendations finished on 65000/72713 queries. users per second: 3102.16</pre>"
            ],
            "text/plain": [
              "recommendations finished on 65000/72713 queries. users per second: 3102.16"
            ]
          },
          "metadata": {
            "tags": []
          }
        },
        {
          "output_type": "display_data",
          "data": {
            "text/html": [
              "<pre>recommendations finished on 66000/72713 queries. users per second: 3102.19</pre>"
            ],
            "text/plain": [
              "recommendations finished on 66000/72713 queries. users per second: 3102.19"
            ]
          },
          "metadata": {
            "tags": []
          }
        },
        {
          "output_type": "display_data",
          "data": {
            "text/html": [
              "<pre>recommendations finished on 67000/72713 queries. users per second: 3102.93</pre>"
            ],
            "text/plain": [
              "recommendations finished on 67000/72713 queries. users per second: 3102.93"
            ]
          },
          "metadata": {
            "tags": []
          }
        },
        {
          "output_type": "display_data",
          "data": {
            "text/html": [
              "<pre>recommendations finished on 68000/72713 queries. users per second: 3101.44</pre>"
            ],
            "text/plain": [
              "recommendations finished on 68000/72713 queries. users per second: 3101.44"
            ]
          },
          "metadata": {
            "tags": []
          }
        },
        {
          "output_type": "display_data",
          "data": {
            "text/html": [
              "<pre>recommendations finished on 69000/72713 queries. users per second: 3099.2</pre>"
            ],
            "text/plain": [
              "recommendations finished on 69000/72713 queries. users per second: 3099.2"
            ]
          },
          "metadata": {
            "tags": []
          }
        },
        {
          "output_type": "display_data",
          "data": {
            "text/html": [
              "<pre>recommendations finished on 70000/72713 queries. users per second: 3101.18</pre>"
            ],
            "text/plain": [
              "recommendations finished on 70000/72713 queries. users per second: 3101.18"
            ]
          },
          "metadata": {
            "tags": []
          }
        },
        {
          "output_type": "display_data",
          "data": {
            "text/html": [
              "<pre>recommendations finished on 71000/72713 queries. users per second: 3101.29</pre>"
            ],
            "text/plain": [
              "recommendations finished on 71000/72713 queries. users per second: 3101.29"
            ]
          },
          "metadata": {
            "tags": []
          }
        },
        {
          "output_type": "display_data",
          "data": {
            "text/html": [
              "<pre>recommendations finished on 72000/72713 queries. users per second: 3101.68</pre>"
            ],
            "text/plain": [
              "recommendations finished on 72000/72713 queries. users per second: 3101.68"
            ]
          },
          "metadata": {
            "tags": []
          }
        },
        {
          "output_type": "execute_result",
          "data": {
            "text/plain": [
              "{'precision_recall_by_user': Columns:\n",
              " \tuser\tstr\n",
              " \tcutoff\tint\n",
              " \tprecision\tfloat\n",
              " \trecall\tfloat\n",
              " \tcount\tint\n",
              " \n",
              " Rows: 1308834\n",
              " \n",
              " Data:\n",
              " +-------------------------------+--------+-----------+--------+-------+\n",
              " |              user             | cutoff | precision | recall | count |\n",
              " +-------------------------------+--------+-----------+--------+-------+\n",
              " | edd62b0bf139a5064632c552bb... |   1    |    0.0    |  0.0   |   26  |\n",
              " | edd62b0bf139a5064632c552bb... |   2    |    0.0    |  0.0   |   26  |\n",
              " | edd62b0bf139a5064632c552bb... |   3    |    0.0    |  0.0   |   26  |\n",
              " | edd62b0bf139a5064632c552bb... |   4    |    0.0    |  0.0   |   26  |\n",
              " | edd62b0bf139a5064632c552bb... |   5    |    0.0    |  0.0   |   26  |\n",
              " | edd62b0bf139a5064632c552bb... |   6    |    0.0    |  0.0   |   26  |\n",
              " | edd62b0bf139a5064632c552bb... |   7    |    0.0    |  0.0   |   26  |\n",
              " | edd62b0bf139a5064632c552bb... |   8    |    0.0    |  0.0   |   26  |\n",
              " | edd62b0bf139a5064632c552bb... |   9    |    0.0    |  0.0   |   26  |\n",
              " | edd62b0bf139a5064632c552bb... |   10   |    0.0    |  0.0   |   26  |\n",
              " +-------------------------------+--------+-----------+--------+-------+\n",
              " [1308834 rows x 5 columns]\n",
              " Note: Only the head of the SFrame is printed.\n",
              " You can use print_rows(num_rows=m, num_columns=n) to print more rows and columns.,\n",
              " 'precision_recall_overall': Columns:\n",
              " \tcutoff\tint\n",
              " \tprecision\tfloat\n",
              " \trecall\tfloat\n",
              " \n",
              " Rows: 18\n",
              " \n",
              " Data:\n",
              " +--------+-----------------------+------------------------+\n",
              " | cutoff |       precision       |         recall         |\n",
              " +--------+-----------------------+------------------------+\n",
              " |   1    | 0.0007426457442273045 | 5.571793020149304e-05  |\n",
              " |   2    | 0.0006876349483586165 | 0.00013662545361604395 |\n",
              " |   3    | 0.0006463768514571005 | 0.0002341596793453445  |\n",
              " |   4    | 0.0006360623272317195 | 0.00031537092320889403 |\n",
              " |   5    | 0.0006518779310439692 | 0.0003950962636084177  |\n",
              " |   6    | 0.0007059718803148422 | 0.0005852968429378478  |\n",
              " |   7    | 0.0006660235642673481 |  0.000644522891874618  |\n",
              " |   8    | 0.0006463768514570969 | 0.0007013813618851409  |\n",
              " |   9    |  0.000753342287868444 | 0.0009371585732425531  |\n",
              " |   10   | 0.0007055134570159459 | 0.0009732775246398924  |\n",
              " +--------+-----------------------+------------------------+\n",
              " [18 rows x 3 columns]\n",
              " Note: Only the head of the SFrame is printed.\n",
              " You can use print_rows(num_rows=m, num_columns=n) to print more rows and columns.}"
            ]
          },
          "metadata": {
            "tags": []
          },
          "execution_count": 31
        }
      ]
    },
    {
      "cell_type": "code",
      "metadata": {
        "colab": {
          "base_uri": "https://localhost:8080/",
          "height": 494
        },
        "id": "nhBSQTLqKyNM",
        "outputId": "8371f0f2-a2bb-4946-fcbd-d8828975b98e"
      },
      "source": [
        "popularity_model.evaluate_rmse(train_data, target='listen_count')"
      ],
      "execution_count": null,
      "outputs": [
        {
          "output_type": "error",
          "ename": "RuntimeError",
          "evalue": "ignored",
          "traceback": [
            "\u001b[0;31m---------------------------------------------------------------------------\u001b[0m",
            "\u001b[0;31mRuntimeError\u001b[0m                              Traceback (most recent call last)",
            "\u001b[0;32m/usr/local/lib/python3.6/dist-packages/turicreate/data_structures/sarray.py\u001b[0m in \u001b[0;36m__sub__\u001b[0;34m(self, other)\u001b[0m\n\u001b[1;32m   1066\u001b[0m                 return SArray(\n\u001b[0;32m-> 1067\u001b[0;31m                     \u001b[0m_proxy\u001b[0m\u001b[0;34m=\u001b[0m\u001b[0mself\u001b[0m\u001b[0;34m.\u001b[0m\u001b[0m__proxy__\u001b[0m\u001b[0;34m.\u001b[0m\u001b[0mvector_operator\u001b[0m\u001b[0;34m(\u001b[0m\u001b[0mother\u001b[0m\u001b[0;34m.\u001b[0m\u001b[0m__proxy__\u001b[0m\u001b[0;34m,\u001b[0m \u001b[0;34m\"-\"\u001b[0m\u001b[0;34m)\u001b[0m\u001b[0;34m\u001b[0m\u001b[0;34m\u001b[0m\u001b[0m\n\u001b[0m\u001b[1;32m   1068\u001b[0m                 )\n",
            "\u001b[0;32mcy_sarray.pyx\u001b[0m in \u001b[0;36mturicreate._cython.cy_sarray.UnitySArrayProxy.vector_operator\u001b[0;34m()\u001b[0m\n",
            "\u001b[0;32mcy_sarray.pyx\u001b[0m in \u001b[0;36mturicreate._cython.cy_sarray.UnitySArrayProxy.vector_operator\u001b[0;34m()\u001b[0m\n",
            "\u001b[0;31mRuntimeError\u001b[0m: Unsupported type operation. cannot perform operation - between string and float",
            "\nDuring handling of the above exception, another exception occurred:\n",
            "\u001b[0;31mRuntimeError\u001b[0m                              Traceback (most recent call last)",
            "\u001b[0;32m<ipython-input-27-657e65d8ac50>\u001b[0m in \u001b[0;36m<module>\u001b[0;34m()\u001b[0m\n\u001b[0;32m----> 1\u001b[0;31m \u001b[0mpopularity_model\u001b[0m\u001b[0;34m.\u001b[0m\u001b[0mevaluate_rmse\u001b[0m\u001b[0;34m(\u001b[0m\u001b[0mtest_data\u001b[0m\u001b[0;34m,\u001b[0m \u001b[0mtarget\u001b[0m\u001b[0;34m=\u001b[0m\u001b[0;34m'song'\u001b[0m\u001b[0;34m)\u001b[0m\u001b[0;34m\u001b[0m\u001b[0;34m\u001b[0m\u001b[0m\n\u001b[0m",
            "\u001b[0;32m/usr/local/lib/python3.6/dist-packages/turicreate/toolkits/recommender/util.py\u001b[0m in \u001b[0;36mevaluate_rmse\u001b[0;34m(self, dataset, target)\u001b[0m\n\u001b[1;32m   1692\u001b[0m \u001b[0;34m\u001b[0m\u001b[0m\n\u001b[1;32m   1693\u001b[0m         \u001b[0mresult\u001b[0m \u001b[0;34m=\u001b[0m \u001b[0mdataset\u001b[0m\u001b[0;34m[\u001b[0m\u001b[0;34m[\u001b[0m\u001b[0muser_column\u001b[0m\u001b[0;34m,\u001b[0m \u001b[0mitem_column\u001b[0m\u001b[0;34m]\u001b[0m\u001b[0;34m]\u001b[0m\u001b[0;34m\u001b[0m\u001b[0;34m\u001b[0m\u001b[0m\n\u001b[0;32m-> 1694\u001b[0;31m         \u001b[0mresult\u001b[0m\u001b[0;34m[\u001b[0m\u001b[0;34m\"sq_error\"\u001b[0m\u001b[0;34m]\u001b[0m \u001b[0;34m=\u001b[0m \u001b[0;34m(\u001b[0m\u001b[0my\u001b[0m \u001b[0;34m-\u001b[0m \u001b[0myhat\u001b[0m\u001b[0;34m)\u001b[0m \u001b[0;34m*\u001b[0m \u001b[0;34m(\u001b[0m\u001b[0my\u001b[0m \u001b[0;34m-\u001b[0m \u001b[0myhat\u001b[0m\u001b[0;34m)\u001b[0m\u001b[0;34m\u001b[0m\u001b[0;34m\u001b[0m\u001b[0m\n\u001b[0m\u001b[1;32m   1695\u001b[0m         rmse_by_user = result.groupby(\n\u001b[1;32m   1696\u001b[0m             \u001b[0muser_column\u001b[0m\u001b[0;34m,\u001b[0m\u001b[0;34m\u001b[0m\u001b[0;34m\u001b[0m\u001b[0m\n",
            "\u001b[0;32m/usr/local/lib/python3.6/dist-packages/turicreate/data_structures/sarray.py\u001b[0m in \u001b[0;36m__sub__\u001b[0;34m(self, other)\u001b[0m\n\u001b[1;32m   1068\u001b[0m                 )\n\u001b[1;32m   1069\u001b[0m             \u001b[0;32melse\u001b[0m\u001b[0;34m:\u001b[0m\u001b[0;34m\u001b[0m\u001b[0;34m\u001b[0m\u001b[0m\n\u001b[0;32m-> 1070\u001b[0;31m                 \u001b[0;32mreturn\u001b[0m \u001b[0mSArray\u001b[0m\u001b[0;34m(\u001b[0m\u001b[0m_proxy\u001b[0m\u001b[0;34m=\u001b[0m\u001b[0mself\u001b[0m\u001b[0;34m.\u001b[0m\u001b[0m__proxy__\u001b[0m\u001b[0;34m.\u001b[0m\u001b[0mleft_scalar_operator\u001b[0m\u001b[0;34m(\u001b[0m\u001b[0mother\u001b[0m\u001b[0;34m,\u001b[0m \u001b[0;34m\"-\"\u001b[0m\u001b[0;34m)\u001b[0m\u001b[0;34m)\u001b[0m\u001b[0;34m\u001b[0m\u001b[0;34m\u001b[0m\u001b[0m\n\u001b[0m\u001b[1;32m   1071\u001b[0m \u001b[0;34m\u001b[0m\u001b[0m\n\u001b[1;32m   1072\u001b[0m     \u001b[0;32mdef\u001b[0m \u001b[0m__mul__\u001b[0m\u001b[0;34m(\u001b[0m\u001b[0mself\u001b[0m\u001b[0;34m,\u001b[0m \u001b[0mother\u001b[0m\u001b[0;34m)\u001b[0m\u001b[0;34m:\u001b[0m\u001b[0;34m\u001b[0m\u001b[0;34m\u001b[0m\u001b[0m\n",
            "\u001b[0;32m/usr/local/lib/python3.6/dist-packages/turicreate/_cython/context.py\u001b[0m in \u001b[0;36m__exit__\u001b[0;34m(self, exc_type, exc_value, traceback)\u001b[0m\n\u001b[1;32m     48\u001b[0m             \u001b[0;32mif\u001b[0m \u001b[0;32mnot\u001b[0m \u001b[0mself\u001b[0m\u001b[0;34m.\u001b[0m\u001b[0mshow_cython_trace\u001b[0m\u001b[0;34m:\u001b[0m\u001b[0;34m\u001b[0m\u001b[0;34m\u001b[0m\u001b[0m\n\u001b[1;32m     49\u001b[0m                 \u001b[0;31m# To hide cython trace, we re-raise from here\u001b[0m\u001b[0;34m\u001b[0m\u001b[0;34m\u001b[0m\u001b[0;34m\u001b[0m\u001b[0m\n\u001b[0;32m---> 50\u001b[0;31m                 \u001b[0;32mraise\u001b[0m \u001b[0mexc_type\u001b[0m\u001b[0;34m(\u001b[0m\u001b[0mexc_value\u001b[0m\u001b[0;34m)\u001b[0m\u001b[0;34m\u001b[0m\u001b[0;34m\u001b[0m\u001b[0m\n\u001b[0m\u001b[1;32m     51\u001b[0m             \u001b[0;32melse\u001b[0m\u001b[0;34m:\u001b[0m\u001b[0;34m\u001b[0m\u001b[0;34m\u001b[0m\u001b[0m\n\u001b[1;32m     52\u001b[0m                 \u001b[0;31m# To show the full trace, we do nothing and let exception propagate\u001b[0m\u001b[0;34m\u001b[0m\u001b[0;34m\u001b[0m\u001b[0;34m\u001b[0m\u001b[0m\n",
            "\u001b[0;31mRuntimeError\u001b[0m: Unsupported type operation. cannot perform operation - between string and float"
          ]
        }
      ]
    },
    {
      "cell_type": "code",
      "metadata": {
        "colab": {
          "base_uri": "https://localhost:8080/"
        },
        "id": "Z2RnZ7RlNqqP",
        "outputId": "cb32f7b8-d13e-42bc-bf23-e60c50bca2d5"
      },
      "source": [
        "popularity_model = popularity_model.recommend(users=list(range(1,3)),k=10)\n",
        "\n",
        "for i in range(len(popularity_model)):\n",
        "  if(popularity_model['song'][i] in (list(song_df['song_id']))):\n",
        "    index = list(song_df['song_id']).index(popularity_model['song'][i])\n",
        "    print(song_df['title'][index])\n",
        "popularity_model.print_rows(num_rows=20)"
      ],
      "execution_count": null,
      "outputs": [
        {
          "output_type": "stream",
          "text": [
            "Starshine\n",
            "221\n",
            "The Quest\n",
            "Gestern_Morgen\n",
            "Working With Homesick\n",
            "Clara meets Slope - Hard To Say\n",
            "Caroline\n",
            "MIC (Speak Life Album Version)\n",
            "Recado Falado (Metrô Da Saudade)\n",
            "Hounds of Love (new mix)\n",
            "Starshine\n",
            "221\n",
            "The Quest\n",
            "Gestern_Morgen\n",
            "Working With Homesick\n",
            "Clara meets Slope - Hard To Say\n",
            "Caroline\n",
            "MIC (Speak Life Album Version)\n",
            "Recado Falado (Metrô Da Saudade)\n",
            "Hounds of Love (new mix)\n",
            "+------+--------------------+--------------------+------+\n",
            "| user |        song        |       score        | rank |\n",
            "+------+--------------------+--------------------+------+\n",
            "|  1   | SOFCGSE12AF72A674F | 25.45744680851064  |  1   |\n",
            "|  1   | SOACBLB12AB01871C7 | 18.196428571428573 |  2   |\n",
            "|  1   | SOZPMJT12AAF3B40D1 | 15.595238095238095 |  3   |\n",
            "|  1   | SOXQIUR12A8AE4654A | 14.718446601941748 |  4   |\n",
            "|  1   | SOGSDHY12AB017BF39 | 14.692307692307692 |  5   |\n",
            "|  1   | SOJSXJY12A8C13E32E | 14.530054644808743 |  6   |\n",
            "|  1   | SOAFPSO12AF72A4521 | 13.928571428571429 |  7   |\n",
            "|  1   | SOQBUFQ12A6D4F7F4C | 13.446153846153846 |  8   |\n",
            "|  1   | SONDKOF12A6D4F7D70 | 12.58108108108108  |  9   |\n",
            "|  1   | SOPKTFQ12A67021600 | 11.492307692307692 |  10  |\n",
            "|  2   | SOFCGSE12AF72A674F | 25.45744680851064  |  1   |\n",
            "|  2   | SOACBLB12AB01871C7 | 18.196428571428573 |  2   |\n",
            "|  2   | SOZPMJT12AAF3B40D1 | 15.595238095238095 |  3   |\n",
            "|  2   | SOXQIUR12A8AE4654A | 14.718446601941748 |  4   |\n",
            "|  2   | SOGSDHY12AB017BF39 | 14.692307692307692 |  5   |\n",
            "|  2   | SOJSXJY12A8C13E32E | 14.530054644808743 |  6   |\n",
            "|  2   | SOAFPSO12AF72A4521 | 13.928571428571429 |  7   |\n",
            "|  2   | SOQBUFQ12A6D4F7F4C | 13.446153846153846 |  8   |\n",
            "|  2   | SONDKOF12A6D4F7D70 | 12.58108108108108  |  9   |\n",
            "|  2   | SOPKTFQ12A67021600 | 11.492307692307692 |  10  |\n",
            "+------+--------------------+--------------------+------+\n",
            "[20 rows x 4 columns]\n",
            "\n"
          ],
          "name": "stdout"
        }
      ]
    },
    {
      "cell_type": "code",
      "metadata": {
        "id": "RwRkZ-b1G51U"
      },
      "source": [
        "def create_popularity_recommendation(songData, user, song):\n",
        "    songDataGrouped = songData.groupby([song]).agg({user: 'count'}).reset_index()\n",
        "    songDataGrouped.rename(columns = {user: 'score'},inplace=True)\n",
        "    songDataSorted = songDataGrouped.sort_values(['score', song], ascending = [0,1])\n",
        "    songDataSorted['Rank'] = songDataSorted['score'].rank(ascending=0, method='first')\n",
        "    popularityBasedRecommendations = songDataSorted.head(10)\n",
        "    return popularityBasedRecommendations"
      ],
      "execution_count": null,
      "outputs": []
    },
    {
      "cell_type": "markdown",
      "metadata": {
        "id": "yD7imbLyy0Zw"
      },
      "source": [
        "**Item based**"
      ]
    },
    {
      "cell_type": "code",
      "metadata": {
        "id": "cIIloWj8RNj_",
        "colab": {
          "base_uri": "https://localhost:8080/",
          "height": 425
        },
        "outputId": "e1437f06-467c-47ab-bf4c-3ebd7907945e"
      },
      "source": [
        "item_sim_model = turicreate.item_similarity_recommender.create(train_data, user_id='user', item_id='song', target='listen_count', similarity_type='cosine')"
      ],
      "execution_count": null,
      "outputs": [
        {
          "output_type": "display_data",
          "data": {
            "text/html": [
              "<pre>Warning: Ignoring columns title, release, artist_name, year, total_listen_count, fractional_play_count;</pre>"
            ],
            "text/plain": [
              "Warning: Ignoring columns title, release, artist_name, year, total_listen_count, fractional_play_count;"
            ]
          },
          "metadata": {
            "tags": []
          }
        },
        {
          "output_type": "display_data",
          "data": {
            "text/html": [
              "<pre>    To use these columns in scoring predictions, use a model that allows the use of additional features.</pre>"
            ],
            "text/plain": [
              "    To use these columns in scoring predictions, use a model that allows the use of additional features."
            ]
          },
          "metadata": {
            "tags": []
          }
        },
        {
          "output_type": "display_data",
          "data": {
            "text/html": [
              "<pre>Preparing data set.</pre>"
            ],
            "text/plain": [
              "Preparing data set."
            ]
          },
          "metadata": {
            "tags": []
          }
        },
        {
          "output_type": "display_data",
          "data": {
            "text/html": [
              "<pre>    Data has 1460862 observations with 75916 users and 10000 items.</pre>"
            ],
            "text/plain": [
              "    Data has 1460862 observations with 75916 users and 10000 items."
            ]
          },
          "metadata": {
            "tags": []
          }
        },
        {
          "output_type": "display_data",
          "data": {
            "text/html": [
              "<pre>    Data prepared in: 2.07995s</pre>"
            ],
            "text/plain": [
              "    Data prepared in: 2.07995s"
            ]
          },
          "metadata": {
            "tags": []
          }
        },
        {
          "output_type": "display_data",
          "data": {
            "text/html": [
              "<pre>Training model from provided data.</pre>"
            ],
            "text/plain": [
              "Training model from provided data."
            ]
          },
          "metadata": {
            "tags": []
          }
        },
        {
          "output_type": "display_data",
          "data": {
            "text/html": [
              "<pre>Gathering per-item and per-user statistics.</pre>"
            ],
            "text/plain": [
              "Gathering per-item and per-user statistics."
            ]
          },
          "metadata": {
            "tags": []
          }
        },
        {
          "output_type": "display_data",
          "data": {
            "text/html": [
              "<pre>+--------------------------------+------------+</pre>"
            ],
            "text/plain": [
              "+--------------------------------+------------+"
            ]
          },
          "metadata": {
            "tags": []
          }
        },
        {
          "output_type": "display_data",
          "data": {
            "text/html": [
              "<pre>| Elapsed Time (Item Statistics) | % Complete |</pre>"
            ],
            "text/plain": [
              "| Elapsed Time (Item Statistics) | % Complete |"
            ]
          },
          "metadata": {
            "tags": []
          }
        },
        {
          "output_type": "display_data",
          "data": {
            "text/html": [
              "<pre>+--------------------------------+------------+</pre>"
            ],
            "text/plain": [
              "+--------------------------------+------------+"
            ]
          },
          "metadata": {
            "tags": []
          }
        },
        {
          "output_type": "display_data",
          "data": {
            "text/html": [
              "<pre>| 6.155ms                        | 1.25       |</pre>"
            ],
            "text/plain": [
              "| 6.155ms                        | 1.25       |"
            ]
          },
          "metadata": {
            "tags": []
          }
        },
        {
          "output_type": "display_data",
          "data": {
            "text/html": [
              "<pre>| 67.021ms                       | 100        |</pre>"
            ],
            "text/plain": [
              "| 67.021ms                       | 100        |"
            ]
          },
          "metadata": {
            "tags": []
          }
        },
        {
          "output_type": "display_data",
          "data": {
            "text/html": [
              "<pre>+--------------------------------+------------+</pre>"
            ],
            "text/plain": [
              "+--------------------------------+------------+"
            ]
          },
          "metadata": {
            "tags": []
          }
        },
        {
          "output_type": "display_data",
          "data": {
            "text/html": [
              "<pre>Setting up lookup tables.</pre>"
            ],
            "text/plain": [
              "Setting up lookup tables."
            ]
          },
          "metadata": {
            "tags": []
          }
        },
        {
          "output_type": "display_data",
          "data": {
            "text/html": [
              "<pre>Processing data in one pass using dense lookup tables.</pre>"
            ],
            "text/plain": [
              "Processing data in one pass using dense lookup tables."
            ]
          },
          "metadata": {
            "tags": []
          }
        },
        {
          "output_type": "display_data",
          "data": {
            "text/html": [
              "<pre>+-------------------------------------+------------------+-----------------+</pre>"
            ],
            "text/plain": [
              "+-------------------------------------+------------------+-----------------+"
            ]
          },
          "metadata": {
            "tags": []
          }
        },
        {
          "output_type": "display_data",
          "data": {
            "text/html": [
              "<pre>| Elapsed Time (Constructing Lookups) | Total % Complete | Items Processed |</pre>"
            ],
            "text/plain": [
              "| Elapsed Time (Constructing Lookups) | Total % Complete | Items Processed |"
            ]
          },
          "metadata": {
            "tags": []
          }
        },
        {
          "output_type": "display_data",
          "data": {
            "text/html": [
              "<pre>+-------------------------------------+------------------+-----------------+</pre>"
            ],
            "text/plain": [
              "+-------------------------------------+------------------+-----------------+"
            ]
          },
          "metadata": {
            "tags": []
          }
        },
        {
          "output_type": "display_data",
          "data": {
            "text/html": [
              "<pre>| 268.369ms                           | 0                | 0               |</pre>"
            ],
            "text/plain": [
              "| 268.369ms                           | 0                | 0               |"
            ]
          },
          "metadata": {
            "tags": []
          }
        },
        {
          "output_type": "display_data",
          "data": {
            "text/html": [
              "<pre>| 3.01s                               | 100              | 10000           |</pre>"
            ],
            "text/plain": [
              "| 3.01s                               | 100              | 10000           |"
            ]
          },
          "metadata": {
            "tags": []
          }
        },
        {
          "output_type": "display_data",
          "data": {
            "text/html": [
              "<pre>+-------------------------------------+------------------+-----------------+</pre>"
            ],
            "text/plain": [
              "+-------------------------------------+------------------+-----------------+"
            ]
          },
          "metadata": {
            "tags": []
          }
        },
        {
          "output_type": "display_data",
          "data": {
            "text/html": [
              "<pre>Finalizing lookup tables.</pre>"
            ],
            "text/plain": [
              "Finalizing lookup tables."
            ]
          },
          "metadata": {
            "tags": []
          }
        },
        {
          "output_type": "display_data",
          "data": {
            "text/html": [
              "<pre>Generating candidate set for working with new users.</pre>"
            ],
            "text/plain": [
              "Generating candidate set for working with new users."
            ]
          },
          "metadata": {
            "tags": []
          }
        },
        {
          "output_type": "display_data",
          "data": {
            "text/html": [
              "<pre>Finished training in 4.12234s</pre>"
            ],
            "text/plain": [
              "Finished training in 4.12234s"
            ]
          },
          "metadata": {
            "tags": []
          }
        }
      ]
    },
    {
      "cell_type": "code",
      "metadata": {
        "id": "6W5z0h-TR8Ly",
        "colab": {
          "base_uri": "https://localhost:8080/"
        },
        "outputId": "9f1ba6b1-eba1-4617-bc3a-83c14e1c1491"
      },
      "source": [
        "item_sim_recomm = item_sim_model.recommend(users=[100],k=10)\n",
        "\n",
        "for i in range(len(item_sim_recomm)):\n",
        "  if(item_sim_recomm['song'][i] in (list(song_df['song_id']))):\n",
        "    index = list(song_df['song_id']).index(item_sim_recomm['song'][i])\n",
        "    print(song_df['title'][index])\n",
        "item_sim_recomm.print_rows(num_rows=10)"
      ],
      "execution_count": null,
      "outputs": [
        {
          "output_type": "stream",
          "text": [
            "Sehr kosmisch\n",
            "Secrets\n",
            "OMG\n",
            "Supermassive Black Hole (Twilight Soundtrack Version)\n",
            "Dog Days Are Over (Radio Edit)\n",
            "Hey_ Soul Sister\n",
            "Heartbreak Warfare\n",
            "Love Story\n",
            "Horn Concerto No. 4 in E flat K495: II. Romance (Andante cantabile)\n",
            "The Scientist\n",
            "+------+--------------------+----------------------+------+\n",
            "| user |        song        |        score         | rank |\n",
            "+------+--------------------+----------------------+------+\n",
            "| 100  | SOFRQTD12A81C233C0 | 0.01054956078529358  |  1   |\n",
            "| 100  | SONYKOW12AB01849C9 | 0.010125592947006226 |  2   |\n",
            "| 100  | SOUSMXX12AB0185C24 | 0.009257566928863526 |  3   |\n",
            "| 100  | SOIZLKI12A6D4F7B61 |  0.0086257004737854  |  4   |\n",
            "| 100  | SOAXGDH12A8C13F8A1 | 0.00831252932548523  |  5   |\n",
            "| 100  | SODJWHY12A8C142CCE | 0.008293513059616089 |  6   |\n",
            "| 100  | SOUFPNI12A8C142D19 | 0.008132596015930176 |  7   |\n",
            "| 100  | SOTWSXL12A8C143349 | 0.007302753925323487 |  8   |\n",
            "| 100  | SOEGIYH12A6D4FC0E3 | 0.007162244319915772 |  9   |\n",
            "| 100  | SOKLRPJ12A8C13C3FE | 0.007014883756637573 |  10  |\n",
            "+------+--------------------+----------------------+------+\n",
            "[10 rows x 4 columns]\n",
            "\n"
          ],
          "name": "stdout"
        }
      ]
    },
    {
      "cell_type": "code",
      "metadata": {
        "id": "FNaeT-rcXNMp",
        "colab": {
          "base_uri": "https://localhost:8080/"
        },
        "outputId": "d38cc09b-c4a6-489c-e28b-d1e3813087c8"
      },
      "source": [
        "item_sim_model.evaluate_rmse(test_data, target='listen_count')"
      ],
      "execution_count": null,
      "outputs": [
        {
          "output_type": "execute_result",
          "data": {
            "text/plain": [
              "{'rmse_by_item': Columns:\n",
              " \tsong\tstr\n",
              " \trmse\tfloat\n",
              " \tcount\tint\n",
              " \n",
              " Rows: 10000\n",
              " \n",
              " Data:\n",
              " +--------------------+--------------------+-------+\n",
              " |        song        |        rmse        | count |\n",
              " +--------------------+--------------------+-------+\n",
              " | SOOIROS12A8C13C802 | 1.3887455272203217 |   28  |\n",
              " | SOLASAK12A58A7DB32 | 2.4788987468466286 |   13  |\n",
              " | SOXOXQA12AF72ABF5B | 4.904370459727622  |   38  |\n",
              " | SOMLQGF12AB0184C2A | 5.621956796138479  |   62  |\n",
              " | SOTTTEQ12B0B80CA01 | 6.6821919076586624 |   96  |\n",
              " | SOUGOHW12AB018AEA3 | 8.769512267320687  |  129  |\n",
              " | SOBSLVH12A8C131F38 | 7.8921494170143855 |  199  |\n",
              " | SOCBGZW12A58A7CAC2 | 4.672695229678377  |   66  |\n",
              " | SOCJWZY12A67021D18 | 5.910171522280932  |  182  |\n",
              " | SOCEWMO12A8151CBDE | 4.478684333662327  |  100  |\n",
              " +--------------------+--------------------+-------+\n",
              " [10000 rows x 3 columns]\n",
              " Note: Only the head of the SFrame is printed.\n",
              " You can use print_rows(num_rows=m, num_columns=n) to print more rows and columns.,\n",
              " 'rmse_by_user': Columns:\n",
              " \tuser\tstr\n",
              " \trmse\tfloat\n",
              " \tcount\tint\n",
              " \n",
              " Rows: 72713\n",
              " \n",
              " Data:\n",
              " +-------------------------------+--------------------+-------+\n",
              " |              user             |        rmse        | count |\n",
              " +-------------------------------+--------------------+-------+\n",
              " | c66c10a9567f0d82ff31441a9f... | 1.533598587619694  |   8   |\n",
              " | a2bdc43ae903eb9e7e6d677b15... | 13.009798853541495 |   28  |\n",
              " | b56e50767dcb0cc0a9808e6c90... |  4.46196426148777  |   27  |\n",
              " | 02f015d32ac2cd1e52d26e3ec3... |        1.0         |   2   |\n",
              " | f933855d675606737fdc191e9e... | 2.628400807157422  |   7   |\n",
              " | 4867d5516a280db13695b9b9c7... | 1.169876642877354  |   8   |\n",
              " | 968f1baebc490d3c6999ee6c85... | 4.545429009414581  |   13  |\n",
              " | 4454c4a192a467664286c8b584... | 1.9954129299037904 |   9   |\n",
              " | 2c494678b5582807c16390f13d... |        1.0         |   1   |\n",
              " | 900ed526660df9c3442ebe736d... | 7.174889172551624  |   10  |\n",
              " +-------------------------------+--------------------+-------+\n",
              " [72713 rows x 3 columns]\n",
              " Note: Only the head of the SFrame is printed.\n",
              " You can use print_rows(num_rows=m, num_columns=n) to print more rows and columns.,\n",
              " 'rmse_overall': 7.078315922005681}"
            ]
          },
          "metadata": {
            "tags": []
          },
          "execution_count": 18
        }
      ]
    },
    {
      "cell_type": "markdown",
      "metadata": {
        "id": "_UD7HCsuyQuC"
      },
      "source": [
        "**factorization_recommender**"
      ]
    },
    {
      "cell_type": "code",
      "metadata": {
        "id": "h58MSgIiyVrx",
        "colab": {
          "base_uri": "https://localhost:8080/",
          "height": 1000
        },
        "outputId": "0632335c-7ec5-4d46-8c41-c07d235ecfa1"
      },
      "source": [
        "fact_model = turicreate.recommender.ranking_factorization_recommender.create(train_data,\n",
        "                                          user_id='user',\n",
        "                                    item_id='song',\n",
        "                                    target='listen_count')\n",
        "results = fact_model.recommend(k=3)\n"
      ],
      "execution_count": null,
      "outputs": [
        {
          "output_type": "display_data",
          "data": {
            "text/html": [
              "<pre>Preparing data set.</pre>"
            ],
            "text/plain": [
              "Preparing data set."
            ]
          },
          "metadata": {
            "tags": []
          }
        },
        {
          "output_type": "display_data",
          "data": {
            "text/html": [
              "<pre>    Data has 1460862 observations with 75916 users and 10000 items.</pre>"
            ],
            "text/plain": [
              "    Data has 1460862 observations with 75916 users and 10000 items."
            ]
          },
          "metadata": {
            "tags": []
          }
        },
        {
          "output_type": "display_data",
          "data": {
            "text/html": [
              "<pre>    Data prepared in: 4.85346s</pre>"
            ],
            "text/plain": [
              "    Data prepared in: 4.85346s"
            ]
          },
          "metadata": {
            "tags": []
          }
        },
        {
          "output_type": "display_data",
          "data": {
            "text/html": [
              "<pre>Training ranking_factorization_recommender for recommendations.</pre>"
            ],
            "text/plain": [
              "Training ranking_factorization_recommender for recommendations."
            ]
          },
          "metadata": {
            "tags": []
          }
        },
        {
          "output_type": "display_data",
          "data": {
            "text/html": [
              "<pre>+--------------------------------+--------------------------------------------------+----------+</pre>"
            ],
            "text/plain": [
              "+--------------------------------+--------------------------------------------------+----------+"
            ]
          },
          "metadata": {
            "tags": []
          }
        },
        {
          "output_type": "display_data",
          "data": {
            "text/html": [
              "<pre>| Parameter                      | Description                                      | Value    |</pre>"
            ],
            "text/plain": [
              "| Parameter                      | Description                                      | Value    |"
            ]
          },
          "metadata": {
            "tags": []
          }
        },
        {
          "output_type": "display_data",
          "data": {
            "text/html": [
              "<pre>+--------------------------------+--------------------------------------------------+----------+</pre>"
            ],
            "text/plain": [
              "+--------------------------------+--------------------------------------------------+----------+"
            ]
          },
          "metadata": {
            "tags": []
          }
        },
        {
          "output_type": "display_data",
          "data": {
            "text/html": [
              "<pre>| num_factors                    | Factor Dimension                                 | 32       |</pre>"
            ],
            "text/plain": [
              "| num_factors                    | Factor Dimension                                 | 32       |"
            ]
          },
          "metadata": {
            "tags": []
          }
        },
        {
          "output_type": "display_data",
          "data": {
            "text/html": [
              "<pre>| regularization                 | L2 Regularization on Factors                     | 1e-09    |</pre>"
            ],
            "text/plain": [
              "| regularization                 | L2 Regularization on Factors                     | 1e-09    |"
            ]
          },
          "metadata": {
            "tags": []
          }
        },
        {
          "output_type": "display_data",
          "data": {
            "text/html": [
              "<pre>| solver                         | Solver used for training                         | adagrad  |</pre>"
            ],
            "text/plain": [
              "| solver                         | Solver used for training                         | adagrad  |"
            ]
          },
          "metadata": {
            "tags": []
          }
        },
        {
          "output_type": "display_data",
          "data": {
            "text/html": [
              "<pre>| linear_regularization          | L2 Regularization on Linear Coefficients         | 1e-09    |</pre>"
            ],
            "text/plain": [
              "| linear_regularization          | L2 Regularization on Linear Coefficients         | 1e-09    |"
            ]
          },
          "metadata": {
            "tags": []
          }
        },
        {
          "output_type": "display_data",
          "data": {
            "text/html": [
              "<pre>| ranking_regularization         | Rank-based Regularization Weight                 | 0.25     |</pre>"
            ],
            "text/plain": [
              "| ranking_regularization         | Rank-based Regularization Weight                 | 0.25     |"
            ]
          },
          "metadata": {
            "tags": []
          }
        },
        {
          "output_type": "display_data",
          "data": {
            "text/html": [
              "<pre>| max_iterations                 | Maximum Number of Iterations                     | 25       |</pre>"
            ],
            "text/plain": [
              "| max_iterations                 | Maximum Number of Iterations                     | 25       |"
            ]
          },
          "metadata": {
            "tags": []
          }
        },
        {
          "output_type": "display_data",
          "data": {
            "text/html": [
              "<pre>+--------------------------------+--------------------------------------------------+----------+</pre>"
            ],
            "text/plain": [
              "+--------------------------------+--------------------------------------------------+----------+"
            ]
          },
          "metadata": {
            "tags": []
          }
        },
        {
          "output_type": "display_data",
          "data": {
            "text/html": [
              "<pre>  Optimizing model using SGD; tuning step size.</pre>"
            ],
            "text/plain": [
              "  Optimizing model using SGD; tuning step size."
            ]
          },
          "metadata": {
            "tags": []
          }
        },
        {
          "output_type": "display_data",
          "data": {
            "text/html": [
              "<pre>  Using 182607 / 1460862 points for tuning the step size.</pre>"
            ],
            "text/plain": [
              "  Using 182607 / 1460862 points for tuning the step size."
            ]
          },
          "metadata": {
            "tags": []
          }
        },
        {
          "output_type": "display_data",
          "data": {
            "text/html": [
              "<pre>+---------+-------------------+------------------------------------------+</pre>"
            ],
            "text/plain": [
              "+---------+-------------------+------------------------------------------+"
            ]
          },
          "metadata": {
            "tags": []
          }
        },
        {
          "output_type": "display_data",
          "data": {
            "text/html": [
              "<pre>| Attempt | Initial Step Size | Estimated Objective Value                |</pre>"
            ],
            "text/plain": [
              "| Attempt | Initial Step Size | Estimated Objective Value                |"
            ]
          },
          "metadata": {
            "tags": []
          }
        },
        {
          "output_type": "display_data",
          "data": {
            "text/html": [
              "<pre>+---------+-------------------+------------------------------------------+</pre>"
            ],
            "text/plain": [
              "+---------+-------------------+------------------------------------------+"
            ]
          },
          "metadata": {
            "tags": []
          }
        },
        {
          "output_type": "display_data",
          "data": {
            "text/html": [
              "<pre>| 0       | 6.25              | Not Viable                               |</pre>"
            ],
            "text/plain": [
              "| 0       | 6.25              | Not Viable                               |"
            ]
          },
          "metadata": {
            "tags": []
          }
        },
        {
          "output_type": "display_data",
          "data": {
            "text/html": [
              "<pre>| 1       | 1.5625            | Not Viable                               |</pre>"
            ],
            "text/plain": [
              "| 1       | 1.5625            | Not Viable                               |"
            ]
          },
          "metadata": {
            "tags": []
          }
        },
        {
          "output_type": "display_data",
          "data": {
            "text/html": [
              "<pre>| 2       | 0.390625          | Not Viable                               |</pre>"
            ],
            "text/plain": [
              "| 2       | 0.390625          | Not Viable                               |"
            ]
          },
          "metadata": {
            "tags": []
          }
        },
        {
          "output_type": "display_data",
          "data": {
            "text/html": [
              "<pre>| 3       | 0.0976562         | Not Viable                               |</pre>"
            ],
            "text/plain": [
              "| 3       | 0.0976562         | Not Viable                               |"
            ]
          },
          "metadata": {
            "tags": []
          }
        },
        {
          "output_type": "display_data",
          "data": {
            "text/html": [
              "<pre>| 4       | 0.0244141         | No Decrease (97.1643 >= 82.3641)         |</pre>"
            ],
            "text/plain": [
              "| 4       | 0.0244141         | No Decrease (97.1643 >= 82.3641)         |"
            ]
          },
          "metadata": {
            "tags": []
          }
        },
        {
          "output_type": "display_data",
          "data": {
            "text/html": [
              "<pre>| 5       | 0.00610352        | No Decrease (100.754 >= 82.3641)         |</pre>"
            ],
            "text/plain": [
              "| 5       | 0.00610352        | No Decrease (100.754 >= 82.3641)         |"
            ]
          },
          "metadata": {
            "tags": []
          }
        },
        {
          "output_type": "display_data",
          "data": {
            "text/html": [
              "<pre>| 6       | 0.00152588        | 75.2989                                  |</pre>"
            ],
            "text/plain": [
              "| 6       | 0.00152588        | 75.2989                                  |"
            ]
          },
          "metadata": {
            "tags": []
          }
        },
        {
          "output_type": "display_data",
          "data": {
            "text/html": [
              "<pre>| 7       | 0.000762939       | 80.5964                                  |</pre>"
            ],
            "text/plain": [
              "| 7       | 0.000762939       | 80.5964                                  |"
            ]
          },
          "metadata": {
            "tags": []
          }
        },
        {
          "output_type": "display_data",
          "data": {
            "text/html": [
              "<pre>| 8       | 0.00038147        | 81.8745                                  |</pre>"
            ],
            "text/plain": [
              "| 8       | 0.00038147        | 81.8745                                  |"
            ]
          },
          "metadata": {
            "tags": []
          }
        },
        {
          "output_type": "display_data",
          "data": {
            "text/html": [
              "<pre>| 9       | 0.000190735       | 81.9789                                  |</pre>"
            ],
            "text/plain": [
              "| 9       | 0.000190735       | 81.9789                                  |"
            ]
          },
          "metadata": {
            "tags": []
          }
        },
        {
          "output_type": "display_data",
          "data": {
            "text/html": [
              "<pre>+---------+-------------------+------------------------------------------+</pre>"
            ],
            "text/plain": [
              "+---------+-------------------+------------------------------------------+"
            ]
          },
          "metadata": {
            "tags": []
          }
        },
        {
          "output_type": "display_data",
          "data": {
            "text/html": [
              "<pre>| Final   | 0.00152588        | 75.2989                                  |</pre>"
            ],
            "text/plain": [
              "| Final   | 0.00152588        | 75.2989                                  |"
            ]
          },
          "metadata": {
            "tags": []
          }
        },
        {
          "output_type": "display_data",
          "data": {
            "text/html": [
              "<pre>+---------+-------------------+------------------------------------------+</pre>"
            ],
            "text/plain": [
              "+---------+-------------------+------------------------------------------+"
            ]
          },
          "metadata": {
            "tags": []
          }
        },
        {
          "output_type": "display_data",
          "data": {
            "text/html": [
              "<pre>Starting Optimization.</pre>"
            ],
            "text/plain": [
              "Starting Optimization."
            ]
          },
          "metadata": {
            "tags": []
          }
        },
        {
          "output_type": "display_data",
          "data": {
            "text/html": [
              "<pre>+---------+--------------+-------------------+-----------------------+-------------+</pre>"
            ],
            "text/plain": [
              "+---------+--------------+-------------------+-----------------------+-------------+"
            ]
          },
          "metadata": {
            "tags": []
          }
        },
        {
          "output_type": "display_data",
          "data": {
            "text/html": [
              "<pre>| Iter.   | Elapsed Time | Approx. Objective | Approx. Training RMSE | Step Size   |</pre>"
            ],
            "text/plain": [
              "| Iter.   | Elapsed Time | Approx. Objective | Approx. Training RMSE | Step Size   |"
            ]
          },
          "metadata": {
            "tags": []
          }
        },
        {
          "output_type": "display_data",
          "data": {
            "text/html": [
              "<pre>+---------+--------------+-------------------+-----------------------+-------------+</pre>"
            ],
            "text/plain": [
              "+---------+--------------+-------------------+-----------------------+-------------+"
            ]
          },
          "metadata": {
            "tags": []
          }
        },
        {
          "output_type": "display_data",
          "data": {
            "text/html": [
              "<pre>| Initial | 95us         | 85.3124           | 6.59668               |             |</pre>"
            ],
            "text/plain": [
              "| Initial | 95us         | 85.3124           | 6.59668               |             |"
            ]
          },
          "metadata": {
            "tags": []
          }
        },
        {
          "output_type": "display_data",
          "data": {
            "text/html": [
              "<pre>+---------+--------------+-------------------+-----------------------+-------------+</pre>"
            ],
            "text/plain": [
              "+---------+--------------+-------------------+-----------------------+-------------+"
            ]
          },
          "metadata": {
            "tags": []
          }
        },
        {
          "output_type": "display_data",
          "data": {
            "text/html": [
              "<pre>| 1       | 8.10s        | 80.3845           | 6.6658                | 0.00152588  |</pre>"
            ],
            "text/plain": [
              "| 1       | 8.10s        | 80.3845           | 6.6658                | 0.00152588  |"
            ]
          },
          "metadata": {
            "tags": []
          }
        },
        {
          "output_type": "display_data",
          "data": {
            "text/html": [
              "<pre>| 2       | 16.05s       | 77.4144           | 6.76429               | 0.00152588  |</pre>"
            ],
            "text/plain": [
              "| 2       | 16.05s       | 77.4144           | 6.76429               | 0.00152588  |"
            ]
          },
          "metadata": {
            "tags": []
          }
        },
        {
          "output_type": "display_data",
          "data": {
            "text/html": [
              "<pre>| 3       | 23.95s       | 80.0055           | 7.02064               | 0.00152588  |</pre>"
            ],
            "text/plain": [
              "| 3       | 23.95s       | 80.0055           | 7.02064               | 0.00152588  |"
            ]
          },
          "metadata": {
            "tags": []
          }
        },
        {
          "output_type": "display_data",
          "data": {
            "text/html": [
              "<pre>| 4       | 31.80s       | 80.4933           | 7.1168                | 0.00152588  |</pre>"
            ],
            "text/plain": [
              "| 4       | 31.80s       | 80.4933           | 7.1168                | 0.00152588  |"
            ]
          },
          "metadata": {
            "tags": []
          }
        },
        {
          "output_type": "display_data",
          "data": {
            "text/html": [
              "<pre>| 5       | 39.58s       | 86.5801           | 7.47342               | 0.00152588  |</pre>"
            ],
            "text/plain": [
              "| 5       | 39.58s       | 86.5801           | 7.47342               | 0.00152588  |"
            ]
          },
          "metadata": {
            "tags": []
          }
        },
        {
          "output_type": "display_data",
          "data": {
            "text/html": [
              "<pre>| 7       | 54.98s       | 100.803           | 8.26167               | 0.00152588  |</pre>"
            ],
            "text/plain": [
              "| 7       | 54.98s       | 100.803           | 8.26167               | 0.00152588  |"
            ]
          },
          "metadata": {
            "tags": []
          }
        },
        {
          "output_type": "display_data",
          "data": {
            "text/html": [
              "<pre>| 8       | 1m 2s        | 103.533           | 8.44643               | 0.00152588  |</pre>"
            ],
            "text/plain": [
              "| 8       | 1m 2s        | 103.533           | 8.44643               | 0.00152588  |"
            ]
          },
          "metadata": {
            "tags": []
          }
        },
        {
          "output_type": "display_data",
          "data": {
            "text/html": [
              "<pre>| 9       | 1m 10s       | 118.6             | 9.16185               | 0.00152588  |</pre>"
            ],
            "text/plain": [
              "| 9       | 1m 10s       | 118.6             | 9.16185               | 0.00152588  |"
            ]
          },
          "metadata": {
            "tags": []
          }
        },
        {
          "output_type": "display_data",
          "data": {
            "text/html": [
              "<pre>| 10      | 1m 20s       | DIVERGED          | DIVERGED              | 0.00152588  |</pre>"
            ],
            "text/plain": [
              "| 10      | 1m 20s       | DIVERGED          | DIVERGED              | 0.00152588  |"
            ]
          },
          "metadata": {
            "tags": []
          }
        },
        {
          "output_type": "display_data",
          "data": {
            "text/html": [
              "<pre>| RESET   | 1m 23s       | 85.3134           | 6.59677               |             |</pre>"
            ],
            "text/plain": [
              "| RESET   | 1m 23s       | 85.3134           | 6.59677               |             |"
            ]
          },
          "metadata": {
            "tags": []
          }
        },
        {
          "output_type": "display_data",
          "data": {
            "text/html": [
              "<pre>| 1       | 1m 31s       | 82.2109           | 6.60788               | 0.000762939 |</pre>"
            ],
            "text/plain": [
              "| 1       | 1m 31s       | 82.2109           | 6.60788               | 0.000762939 |"
            ]
          },
          "metadata": {
            "tags": []
          }
        },
        {
          "output_type": "display_data",
          "data": {
            "text/html": [
              "<pre>| 2       | 1m 39s       | 79.2375           | 6.62369               | 0.000762939 |</pre>"
            ],
            "text/plain": [
              "| 2       | 1m 39s       | 79.2375           | 6.62369               | 0.000762939 |"
            ]
          },
          "metadata": {
            "tags": []
          }
        },
        {
          "output_type": "display_data",
          "data": {
            "text/html": [
              "<pre>| 3       | 1m 47s       | 78.3427           | 6.68603               | 0.000762939 |</pre>"
            ],
            "text/plain": [
              "| 3       | 1m 47s       | 78.3427           | 6.68603               | 0.000762939 |"
            ]
          },
          "metadata": {
            "tags": []
          }
        },
        {
          "output_type": "display_data",
          "data": {
            "text/html": [
              "<pre>| 4       | 1m 54s       | 79.203            | 6.80339               | 0.000762939 |</pre>"
            ],
            "text/plain": [
              "| 4       | 1m 54s       | 79.203            | 6.80339               | 0.000762939 |"
            ]
          },
          "metadata": {
            "tags": []
          }
        },
        {
          "output_type": "display_data",
          "data": {
            "text/html": [
              "<pre>| 5       | 2m 2s        | 80.736            | 6.93634               | 0.000762939 |</pre>"
            ],
            "text/plain": [
              "| 5       | 2m 2s        | 80.736            | 6.93634               | 0.000762939 |"
            ]
          },
          "metadata": {
            "tags": []
          }
        },
        {
          "output_type": "display_data",
          "data": {
            "text/html": [
              "<pre>| 6       | 2m 10s       | 82.5695           | 7.07851               | 0.000762939 |</pre>"
            ],
            "text/plain": [
              "| 6       | 2m 10s       | 82.5695           | 7.07851               | 0.000762939 |"
            ]
          },
          "metadata": {
            "tags": []
          }
        },
        {
          "output_type": "display_data",
          "data": {
            "text/html": [
              "<pre>| 7       | 2m 18s       | 84.6391           | 7.22674               | 0.000762939 |</pre>"
            ],
            "text/plain": [
              "| 7       | 2m 18s       | 84.6391           | 7.22674               | 0.000762939 |"
            ]
          },
          "metadata": {
            "tags": []
          }
        },
        {
          "output_type": "display_data",
          "data": {
            "text/html": [
              "<pre>| 8       | 2m 25s       | 87.1039           | 7.38815               | 0.000762939 |</pre>"
            ],
            "text/plain": [
              "| 8       | 2m 25s       | 87.1039           | 7.38815               | 0.000762939 |"
            ]
          },
          "metadata": {
            "tags": []
          }
        },
        {
          "output_type": "display_data",
          "data": {
            "text/html": [
              "<pre>| 9       | 2m 33s       | 88.9493           | 7.51206               | 0.000762939 |</pre>"
            ],
            "text/plain": [
              "| 9       | 2m 33s       | 88.9493           | 7.51206               | 0.000762939 |"
            ]
          },
          "metadata": {
            "tags": []
          }
        },
        {
          "output_type": "display_data",
          "data": {
            "text/html": [
              "<pre>| 10      | 2m 41s       | 92.0865           | 7.69472               | 0.000762939 |</pre>"
            ],
            "text/plain": [
              "| 10      | 2m 41s       | 92.0865           | 7.69472               | 0.000762939 |"
            ]
          },
          "metadata": {
            "tags": []
          }
        },
        {
          "output_type": "display_data",
          "data": {
            "text/html": [
              "<pre>| 11      | 2m 49s       | 93.349            | 7.77889               | 0.000762939 |</pre>"
            ],
            "text/plain": [
              "| 11      | 2m 49s       | 93.349            | 7.77889               | 0.000762939 |"
            ]
          },
          "metadata": {
            "tags": []
          }
        },
        {
          "output_type": "display_data",
          "data": {
            "text/html": [
              "<pre>| 12      | 2m 57s       | 95.5875           | 7.90729               | 0.000762939 |</pre>"
            ],
            "text/plain": [
              "| 12      | 2m 57s       | 95.5875           | 7.90729               | 0.000762939 |"
            ]
          },
          "metadata": {
            "tags": []
          }
        },
        {
          "output_type": "display_data",
          "data": {
            "text/html": [
              "<pre>| 13      | 3m 7s        | DIVERGED          | DIVERGED              | 0.000762939 |</pre>"
            ],
            "text/plain": [
              "| 13      | 3m 7s        | DIVERGED          | DIVERGED              | 0.000762939 |"
            ]
          },
          "metadata": {
            "tags": []
          }
        },
        {
          "output_type": "display_data",
          "data": {
            "text/html": [
              "<pre>| RESET   | 3m 11s       | 85.3123           | 6.59671               |             |</pre>"
            ],
            "text/plain": [
              "| RESET   | 3m 11s       | 85.3123           | 6.59671               |             |"
            ]
          },
          "metadata": {
            "tags": []
          }
        },
        {
          "output_type": "display_data",
          "data": {
            "text/html": [
              "<pre>| 1       | 3m 18s       | 83.9579           | 6.59312               | 0.00038147  |</pre>"
            ],
            "text/plain": [
              "| 1       | 3m 18s       | 83.9579           | 6.59312               | 0.00038147  |"
            ]
          },
          "metadata": {
            "tags": []
          }
        },
        {
          "output_type": "display_data",
          "data": {
            "text/html": [
              "<pre>| 2       | 3m 26s       | 82.7582           | 6.59687               | 0.00038147  |</pre>"
            ],
            "text/plain": [
              "| 2       | 3m 26s       | 82.7582           | 6.59687               | 0.00038147  |"
            ]
          },
          "metadata": {
            "tags": []
          }
        },
        {
          "output_type": "display_data",
          "data": {
            "text/html": [
              "<pre>| 3       | 3m 34s       | 81.9189           | 6.60189               | 0.00038147  |</pre>"
            ],
            "text/plain": [
              "| 3       | 3m 34s       | 81.9189           | 6.60189               | 0.00038147  |"
            ]
          },
          "metadata": {
            "tags": []
          }
        },
        {
          "output_type": "display_data",
          "data": {
            "text/html": [
              "<pre>| 4       | 3m 41s       | 81.1307           | 6.60506               | 0.00038147  |</pre>"
            ],
            "text/plain": [
              "| 4       | 3m 41s       | 81.1307           | 6.60506               | 0.00038147  |"
            ]
          },
          "metadata": {
            "tags": []
          }
        },
        {
          "output_type": "display_data",
          "data": {
            "text/html": [
              "<pre>| 5       | 3m 49s       | 80.3641           | 6.60648               | 0.00038147  |</pre>"
            ],
            "text/plain": [
              "| 5       | 3m 49s       | 80.3641           | 6.60648               | 0.00038147  |"
            ]
          },
          "metadata": {
            "tags": []
          }
        },
        {
          "output_type": "display_data",
          "data": {
            "text/html": [
              "<pre>| 6       | 3m 57s       | 79.7106           | 6.60825               | 0.00038147  |</pre>"
            ],
            "text/plain": [
              "| 6       | 3m 57s       | 79.7106           | 6.60825               | 0.00038147  |"
            ]
          },
          "metadata": {
            "tags": []
          }
        },
        {
          "output_type": "display_data",
          "data": {
            "text/html": [
              "<pre>| 7       | 4m 5s        | 79.1951           | 6.61234               | 0.00038147  |</pre>"
            ],
            "text/plain": [
              "| 7       | 4m 5s        | 79.1951           | 6.61234               | 0.00038147  |"
            ]
          },
          "metadata": {
            "tags": []
          }
        },
        {
          "output_type": "display_data",
          "data": {
            "text/html": [
              "<pre>+---------+--------------+-------------------+-----------------------+-------------+</pre>"
            ],
            "text/plain": [
              "+---------+--------------+-------------------+-----------------------+-------------+"
            ]
          },
          "metadata": {
            "tags": []
          }
        },
        {
          "output_type": "display_data",
          "data": {
            "text/html": [
              "<pre>Optimization Complete: Maximum number of passes through the data reached (hard limit).</pre>"
            ],
            "text/plain": [
              "Optimization Complete: Maximum number of passes through the data reached (hard limit)."
            ]
          },
          "metadata": {
            "tags": []
          }
        },
        {
          "output_type": "display_data",
          "data": {
            "text/html": [
              "<pre>Computing final objective value and training RMSE.</pre>"
            ],
            "text/plain": [
              "Computing final objective value and training RMSE."
            ]
          },
          "metadata": {
            "tags": []
          }
        },
        {
          "output_type": "display_data",
          "data": {
            "text/html": [
              "<pre>       Final objective value: 78.9899</pre>"
            ],
            "text/plain": [
              "       Final objective value: 78.9899"
            ]
          },
          "metadata": {
            "tags": []
          }
        },
        {
          "output_type": "display_data",
          "data": {
            "text/html": [
              "<pre>       Final training RMSE: 6.61691</pre>"
            ],
            "text/plain": [
              "       Final training RMSE: 6.61691"
            ]
          },
          "metadata": {
            "tags": []
          }
        },
        {
          "output_type": "display_data",
          "data": {
            "text/html": [
              "<pre>recommendations finished on 1000/75916 queries. users per second: 1139.59</pre>"
            ],
            "text/plain": [
              "recommendations finished on 1000/75916 queries. users per second: 1139.59"
            ]
          },
          "metadata": {
            "tags": []
          }
        },
        {
          "output_type": "display_data",
          "data": {
            "text/html": [
              "<pre>recommendations finished on 2000/75916 queries. users per second: 1131.58</pre>"
            ],
            "text/plain": [
              "recommendations finished on 2000/75916 queries. users per second: 1131.58"
            ]
          },
          "metadata": {
            "tags": []
          }
        },
        {
          "output_type": "display_data",
          "data": {
            "text/html": [
              "<pre>recommendations finished on 3000/75916 queries. users per second: 1132.22</pre>"
            ],
            "text/plain": [
              "recommendations finished on 3000/75916 queries. users per second: 1132.22"
            ]
          },
          "metadata": {
            "tags": []
          }
        },
        {
          "output_type": "display_data",
          "data": {
            "text/html": [
              "<pre>recommendations finished on 4000/75916 queries. users per second: 1130.67</pre>"
            ],
            "text/plain": [
              "recommendations finished on 4000/75916 queries. users per second: 1130.67"
            ]
          },
          "metadata": {
            "tags": []
          }
        },
        {
          "output_type": "display_data",
          "data": {
            "text/html": [
              "<pre>recommendations finished on 5000/75916 queries. users per second: 1129.73</pre>"
            ],
            "text/plain": [
              "recommendations finished on 5000/75916 queries. users per second: 1129.73"
            ]
          },
          "metadata": {
            "tags": []
          }
        },
        {
          "output_type": "display_data",
          "data": {
            "text/html": [
              "<pre>recommendations finished on 6000/75916 queries. users per second: 1129.26</pre>"
            ],
            "text/plain": [
              "recommendations finished on 6000/75916 queries. users per second: 1129.26"
            ]
          },
          "metadata": {
            "tags": []
          }
        },
        {
          "output_type": "display_data",
          "data": {
            "text/html": [
              "<pre>recommendations finished on 7000/75916 queries. users per second: 1128.74</pre>"
            ],
            "text/plain": [
              "recommendations finished on 7000/75916 queries. users per second: 1128.74"
            ]
          },
          "metadata": {
            "tags": []
          }
        },
        {
          "output_type": "display_data",
          "data": {
            "text/html": [
              "<pre>recommendations finished on 8000/75916 queries. users per second: 1129.34</pre>"
            ],
            "text/plain": [
              "recommendations finished on 8000/75916 queries. users per second: 1129.34"
            ]
          },
          "metadata": {
            "tags": []
          }
        },
        {
          "output_type": "display_data",
          "data": {
            "text/html": [
              "<pre>recommendations finished on 9000/75916 queries. users per second: 1126.42</pre>"
            ],
            "text/plain": [
              "recommendations finished on 9000/75916 queries. users per second: 1126.42"
            ]
          },
          "metadata": {
            "tags": []
          }
        },
        {
          "output_type": "display_data",
          "data": {
            "text/html": [
              "<pre>recommendations finished on 10000/75916 queries. users per second: 1126.81</pre>"
            ],
            "text/plain": [
              "recommendations finished on 10000/75916 queries. users per second: 1126.81"
            ]
          },
          "metadata": {
            "tags": []
          }
        },
        {
          "output_type": "display_data",
          "data": {
            "text/html": [
              "<pre>recommendations finished on 11000/75916 queries. users per second: 1125.66</pre>"
            ],
            "text/plain": [
              "recommendations finished on 11000/75916 queries. users per second: 1125.66"
            ]
          },
          "metadata": {
            "tags": []
          }
        },
        {
          "output_type": "display_data",
          "data": {
            "text/html": [
              "<pre>recommendations finished on 12000/75916 queries. users per second: 1125.5</pre>"
            ],
            "text/plain": [
              "recommendations finished on 12000/75916 queries. users per second: 1125.5"
            ]
          },
          "metadata": {
            "tags": []
          }
        },
        {
          "output_type": "display_data",
          "data": {
            "text/html": [
              "<pre>recommendations finished on 13000/75916 queries. users per second: 1124.93</pre>"
            ],
            "text/plain": [
              "recommendations finished on 13000/75916 queries. users per second: 1124.93"
            ]
          },
          "metadata": {
            "tags": []
          }
        },
        {
          "output_type": "display_data",
          "data": {
            "text/html": [
              "<pre>recommendations finished on 14000/75916 queries. users per second: 1124.74</pre>"
            ],
            "text/plain": [
              "recommendations finished on 14000/75916 queries. users per second: 1124.74"
            ]
          },
          "metadata": {
            "tags": []
          }
        },
        {
          "output_type": "display_data",
          "data": {
            "text/html": [
              "<pre>recommendations finished on 15000/75916 queries. users per second: 1125.78</pre>"
            ],
            "text/plain": [
              "recommendations finished on 15000/75916 queries. users per second: 1125.78"
            ]
          },
          "metadata": {
            "tags": []
          }
        },
        {
          "output_type": "display_data",
          "data": {
            "text/html": [
              "<pre>recommendations finished on 16000/75916 queries. users per second: 1124.75</pre>"
            ],
            "text/plain": [
              "recommendations finished on 16000/75916 queries. users per second: 1124.75"
            ]
          },
          "metadata": {
            "tags": []
          }
        },
        {
          "output_type": "display_data",
          "data": {
            "text/html": [
              "<pre>recommendations finished on 17000/75916 queries. users per second: 1124.07</pre>"
            ],
            "text/plain": [
              "recommendations finished on 17000/75916 queries. users per second: 1124.07"
            ]
          },
          "metadata": {
            "tags": []
          }
        },
        {
          "output_type": "display_data",
          "data": {
            "text/html": [
              "<pre>recommendations finished on 18000/75916 queries. users per second: 1123.24</pre>"
            ],
            "text/plain": [
              "recommendations finished on 18000/75916 queries. users per second: 1123.24"
            ]
          },
          "metadata": {
            "tags": []
          }
        },
        {
          "output_type": "display_data",
          "data": {
            "text/html": [
              "<pre>recommendations finished on 19000/75916 queries. users per second: 1124.33</pre>"
            ],
            "text/plain": [
              "recommendations finished on 19000/75916 queries. users per second: 1124.33"
            ]
          },
          "metadata": {
            "tags": []
          }
        },
        {
          "output_type": "display_data",
          "data": {
            "text/html": [
              "<pre>recommendations finished on 20000/75916 queries. users per second: 1124.25</pre>"
            ],
            "text/plain": [
              "recommendations finished on 20000/75916 queries. users per second: 1124.25"
            ]
          },
          "metadata": {
            "tags": []
          }
        },
        {
          "output_type": "display_data",
          "data": {
            "text/html": [
              "<pre>recommendations finished on 21000/75916 queries. users per second: 1123.97</pre>"
            ],
            "text/plain": [
              "recommendations finished on 21000/75916 queries. users per second: 1123.97"
            ]
          },
          "metadata": {
            "tags": []
          }
        },
        {
          "output_type": "display_data",
          "data": {
            "text/html": [
              "<pre>recommendations finished on 22000/75916 queries. users per second: 1123.66</pre>"
            ],
            "text/plain": [
              "recommendations finished on 22000/75916 queries. users per second: 1123.66"
            ]
          },
          "metadata": {
            "tags": []
          }
        },
        {
          "output_type": "display_data",
          "data": {
            "text/html": [
              "<pre>recommendations finished on 23000/75916 queries. users per second: 1124.47</pre>"
            ],
            "text/plain": [
              "recommendations finished on 23000/75916 queries. users per second: 1124.47"
            ]
          },
          "metadata": {
            "tags": []
          }
        },
        {
          "output_type": "display_data",
          "data": {
            "text/html": [
              "<pre>recommendations finished on 24000/75916 queries. users per second: 1124.85</pre>"
            ],
            "text/plain": [
              "recommendations finished on 24000/75916 queries. users per second: 1124.85"
            ]
          },
          "metadata": {
            "tags": []
          }
        },
        {
          "output_type": "display_data",
          "data": {
            "text/html": [
              "<pre>recommendations finished on 25000/75916 queries. users per second: 1124.84</pre>"
            ],
            "text/plain": [
              "recommendations finished on 25000/75916 queries. users per second: 1124.84"
            ]
          },
          "metadata": {
            "tags": []
          }
        },
        {
          "output_type": "display_data",
          "data": {
            "text/html": [
              "<pre>recommendations finished on 26000/75916 queries. users per second: 1124.98</pre>"
            ],
            "text/plain": [
              "recommendations finished on 26000/75916 queries. users per second: 1124.98"
            ]
          },
          "metadata": {
            "tags": []
          }
        },
        {
          "output_type": "display_data",
          "data": {
            "text/html": [
              "<pre>recommendations finished on 27000/75916 queries. users per second: 1125.63</pre>"
            ],
            "text/plain": [
              "recommendations finished on 27000/75916 queries. users per second: 1125.63"
            ]
          },
          "metadata": {
            "tags": []
          }
        },
        {
          "output_type": "display_data",
          "data": {
            "text/html": [
              "<pre>recommendations finished on 28000/75916 queries. users per second: 1125.56</pre>"
            ],
            "text/plain": [
              "recommendations finished on 28000/75916 queries. users per second: 1125.56"
            ]
          },
          "metadata": {
            "tags": []
          }
        },
        {
          "output_type": "display_data",
          "data": {
            "text/html": [
              "<pre>recommendations finished on 29000/75916 queries. users per second: 1125.84</pre>"
            ],
            "text/plain": [
              "recommendations finished on 29000/75916 queries. users per second: 1125.84"
            ]
          },
          "metadata": {
            "tags": []
          }
        },
        {
          "output_type": "display_data",
          "data": {
            "text/html": [
              "<pre>recommendations finished on 30000/75916 queries. users per second: 1126.24</pre>"
            ],
            "text/plain": [
              "recommendations finished on 30000/75916 queries. users per second: 1126.24"
            ]
          },
          "metadata": {
            "tags": []
          }
        },
        {
          "output_type": "display_data",
          "data": {
            "text/html": [
              "<pre>recommendations finished on 31000/75916 queries. users per second: 1126.41</pre>"
            ],
            "text/plain": [
              "recommendations finished on 31000/75916 queries. users per second: 1126.41"
            ]
          },
          "metadata": {
            "tags": []
          }
        },
        {
          "output_type": "display_data",
          "data": {
            "text/html": [
              "<pre>recommendations finished on 32000/75916 queries. users per second: 1126.3</pre>"
            ],
            "text/plain": [
              "recommendations finished on 32000/75916 queries. users per second: 1126.3"
            ]
          },
          "metadata": {
            "tags": []
          }
        },
        {
          "output_type": "display_data",
          "data": {
            "text/html": [
              "<pre>recommendations finished on 33000/75916 queries. users per second: 1126.69</pre>"
            ],
            "text/plain": [
              "recommendations finished on 33000/75916 queries. users per second: 1126.69"
            ]
          },
          "metadata": {
            "tags": []
          }
        },
        {
          "output_type": "display_data",
          "data": {
            "text/html": [
              "<pre>recommendations finished on 34000/75916 queries. users per second: 1126.54</pre>"
            ],
            "text/plain": [
              "recommendations finished on 34000/75916 queries. users per second: 1126.54"
            ]
          },
          "metadata": {
            "tags": []
          }
        },
        {
          "output_type": "display_data",
          "data": {
            "text/html": [
              "<pre>recommendations finished on 35000/75916 queries. users per second: 1126.23</pre>"
            ],
            "text/plain": [
              "recommendations finished on 35000/75916 queries. users per second: 1126.23"
            ]
          },
          "metadata": {
            "tags": []
          }
        },
        {
          "output_type": "display_data",
          "data": {
            "text/html": [
              "<pre>recommendations finished on 36000/75916 queries. users per second: 1125.99</pre>"
            ],
            "text/plain": [
              "recommendations finished on 36000/75916 queries. users per second: 1125.99"
            ]
          },
          "metadata": {
            "tags": []
          }
        },
        {
          "output_type": "display_data",
          "data": {
            "text/html": [
              "<pre>recommendations finished on 37000/75916 queries. users per second: 1125.51</pre>"
            ],
            "text/plain": [
              "recommendations finished on 37000/75916 queries. users per second: 1125.51"
            ]
          },
          "metadata": {
            "tags": []
          }
        },
        {
          "output_type": "display_data",
          "data": {
            "text/html": [
              "<pre>recommendations finished on 38000/75916 queries. users per second: 1125.02</pre>"
            ],
            "text/plain": [
              "recommendations finished on 38000/75916 queries. users per second: 1125.02"
            ]
          },
          "metadata": {
            "tags": []
          }
        },
        {
          "output_type": "display_data",
          "data": {
            "text/html": [
              "<pre>recommendations finished on 39000/75916 queries. users per second: 1124.43</pre>"
            ],
            "text/plain": [
              "recommendations finished on 39000/75916 queries. users per second: 1124.43"
            ]
          },
          "metadata": {
            "tags": []
          }
        },
        {
          "output_type": "display_data",
          "data": {
            "text/html": [
              "<pre>recommendations finished on 40000/75916 queries. users per second: 1124.08</pre>"
            ],
            "text/plain": [
              "recommendations finished on 40000/75916 queries. users per second: 1124.08"
            ]
          },
          "metadata": {
            "tags": []
          }
        },
        {
          "output_type": "display_data",
          "data": {
            "text/html": [
              "<pre>recommendations finished on 41000/75916 queries. users per second: 1123.75</pre>"
            ],
            "text/plain": [
              "recommendations finished on 41000/75916 queries. users per second: 1123.75"
            ]
          },
          "metadata": {
            "tags": []
          }
        },
        {
          "output_type": "display_data",
          "data": {
            "text/html": [
              "<pre>recommendations finished on 42000/75916 queries. users per second: 1123.63</pre>"
            ],
            "text/plain": [
              "recommendations finished on 42000/75916 queries. users per second: 1123.63"
            ]
          },
          "metadata": {
            "tags": []
          }
        },
        {
          "output_type": "display_data",
          "data": {
            "text/html": [
              "<pre>recommendations finished on 43000/75916 queries. users per second: 1123.26</pre>"
            ],
            "text/plain": [
              "recommendations finished on 43000/75916 queries. users per second: 1123.26"
            ]
          },
          "metadata": {
            "tags": []
          }
        },
        {
          "output_type": "display_data",
          "data": {
            "text/html": [
              "<pre>recommendations finished on 44000/75916 queries. users per second: 1123.02</pre>"
            ],
            "text/plain": [
              "recommendations finished on 44000/75916 queries. users per second: 1123.02"
            ]
          },
          "metadata": {
            "tags": []
          }
        },
        {
          "output_type": "display_data",
          "data": {
            "text/html": [
              "<pre>recommendations finished on 45000/75916 queries. users per second: 1123.02</pre>"
            ],
            "text/plain": [
              "recommendations finished on 45000/75916 queries. users per second: 1123.02"
            ]
          },
          "metadata": {
            "tags": []
          }
        },
        {
          "output_type": "display_data",
          "data": {
            "text/html": [
              "<pre>recommendations finished on 46000/75916 queries. users per second: 1122.56</pre>"
            ],
            "text/plain": [
              "recommendations finished on 46000/75916 queries. users per second: 1122.56"
            ]
          },
          "metadata": {
            "tags": []
          }
        },
        {
          "output_type": "display_data",
          "data": {
            "text/html": [
              "<pre>recommendations finished on 47000/75916 queries. users per second: 1122.58</pre>"
            ],
            "text/plain": [
              "recommendations finished on 47000/75916 queries. users per second: 1122.58"
            ]
          },
          "metadata": {
            "tags": []
          }
        },
        {
          "output_type": "display_data",
          "data": {
            "text/html": [
              "<pre>recommendations finished on 48000/75916 queries. users per second: 1122.49</pre>"
            ],
            "text/plain": [
              "recommendations finished on 48000/75916 queries. users per second: 1122.49"
            ]
          },
          "metadata": {
            "tags": []
          }
        },
        {
          "output_type": "display_data",
          "data": {
            "text/html": [
              "<pre>recommendations finished on 49000/75916 queries. users per second: 1122.31</pre>"
            ],
            "text/plain": [
              "recommendations finished on 49000/75916 queries. users per second: 1122.31"
            ]
          },
          "metadata": {
            "tags": []
          }
        },
        {
          "output_type": "display_data",
          "data": {
            "text/html": [
              "<pre>recommendations finished on 50000/75916 queries. users per second: 1122.41</pre>"
            ],
            "text/plain": [
              "recommendations finished on 50000/75916 queries. users per second: 1122.41"
            ]
          },
          "metadata": {
            "tags": []
          }
        },
        {
          "output_type": "display_data",
          "data": {
            "text/html": [
              "<pre>recommendations finished on 51000/75916 queries. users per second: 1122.69</pre>"
            ],
            "text/plain": [
              "recommendations finished on 51000/75916 queries. users per second: 1122.69"
            ]
          },
          "metadata": {
            "tags": []
          }
        },
        {
          "output_type": "display_data",
          "data": {
            "text/html": [
              "<pre>recommendations finished on 52000/75916 queries. users per second: 1122.51</pre>"
            ],
            "text/plain": [
              "recommendations finished on 52000/75916 queries. users per second: 1122.51"
            ]
          },
          "metadata": {
            "tags": []
          }
        },
        {
          "output_type": "display_data",
          "data": {
            "text/html": [
              "<pre>recommendations finished on 53000/75916 queries. users per second: 1122.4</pre>"
            ],
            "text/plain": [
              "recommendations finished on 53000/75916 queries. users per second: 1122.4"
            ]
          },
          "metadata": {
            "tags": []
          }
        },
        {
          "output_type": "display_data",
          "data": {
            "text/html": [
              "<pre>recommendations finished on 54000/75916 queries. users per second: 1122.73</pre>"
            ],
            "text/plain": [
              "recommendations finished on 54000/75916 queries. users per second: 1122.73"
            ]
          },
          "metadata": {
            "tags": []
          }
        },
        {
          "output_type": "display_data",
          "data": {
            "text/html": [
              "<pre>recommendations finished on 55000/75916 queries. users per second: 1123.23</pre>"
            ],
            "text/plain": [
              "recommendations finished on 55000/75916 queries. users per second: 1123.23"
            ]
          },
          "metadata": {
            "tags": []
          }
        },
        {
          "output_type": "display_data",
          "data": {
            "text/html": [
              "<pre>recommendations finished on 56000/75916 queries. users per second: 1123.48</pre>"
            ],
            "text/plain": [
              "recommendations finished on 56000/75916 queries. users per second: 1123.48"
            ]
          },
          "metadata": {
            "tags": []
          }
        },
        {
          "output_type": "display_data",
          "data": {
            "text/html": [
              "<pre>recommendations finished on 57000/75916 queries. users per second: 1123.75</pre>"
            ],
            "text/plain": [
              "recommendations finished on 57000/75916 queries. users per second: 1123.75"
            ]
          },
          "metadata": {
            "tags": []
          }
        },
        {
          "output_type": "display_data",
          "data": {
            "text/html": [
              "<pre>recommendations finished on 58000/75916 queries. users per second: 1124.29</pre>"
            ],
            "text/plain": [
              "recommendations finished on 58000/75916 queries. users per second: 1124.29"
            ]
          },
          "metadata": {
            "tags": []
          }
        },
        {
          "output_type": "display_data",
          "data": {
            "text/html": [
              "<pre>recommendations finished on 59000/75916 queries. users per second: 1124.82</pre>"
            ],
            "text/plain": [
              "recommendations finished on 59000/75916 queries. users per second: 1124.82"
            ]
          },
          "metadata": {
            "tags": []
          }
        },
        {
          "output_type": "display_data",
          "data": {
            "text/html": [
              "<pre>recommendations finished on 60000/75916 queries. users per second: 1125.08</pre>"
            ],
            "text/plain": [
              "recommendations finished on 60000/75916 queries. users per second: 1125.08"
            ]
          },
          "metadata": {
            "tags": []
          }
        },
        {
          "output_type": "display_data",
          "data": {
            "text/html": [
              "<pre>recommendations finished on 61000/75916 queries. users per second: 1125.8</pre>"
            ],
            "text/plain": [
              "recommendations finished on 61000/75916 queries. users per second: 1125.8"
            ]
          },
          "metadata": {
            "tags": []
          }
        },
        {
          "output_type": "display_data",
          "data": {
            "text/html": [
              "<pre>recommendations finished on 62000/75916 queries. users per second: 1126.08</pre>"
            ],
            "text/plain": [
              "recommendations finished on 62000/75916 queries. users per second: 1126.08"
            ]
          },
          "metadata": {
            "tags": []
          }
        },
        {
          "output_type": "display_data",
          "data": {
            "text/html": [
              "<pre>recommendations finished on 63000/75916 queries. users per second: 1126.41</pre>"
            ],
            "text/plain": [
              "recommendations finished on 63000/75916 queries. users per second: 1126.41"
            ]
          },
          "metadata": {
            "tags": []
          }
        },
        {
          "output_type": "display_data",
          "data": {
            "text/html": [
              "<pre>recommendations finished on 64000/75916 queries. users per second: 1126.79</pre>"
            ],
            "text/plain": [
              "recommendations finished on 64000/75916 queries. users per second: 1126.79"
            ]
          },
          "metadata": {
            "tags": []
          }
        },
        {
          "output_type": "display_data",
          "data": {
            "text/html": [
              "<pre>recommendations finished on 65000/75916 queries. users per second: 1127.1</pre>"
            ],
            "text/plain": [
              "recommendations finished on 65000/75916 queries. users per second: 1127.1"
            ]
          },
          "metadata": {
            "tags": []
          }
        },
        {
          "output_type": "display_data",
          "data": {
            "text/html": [
              "<pre>recommendations finished on 66000/75916 queries. users per second: 1127.47</pre>"
            ],
            "text/plain": [
              "recommendations finished on 66000/75916 queries. users per second: 1127.47"
            ]
          },
          "metadata": {
            "tags": []
          }
        },
        {
          "output_type": "display_data",
          "data": {
            "text/html": [
              "<pre>recommendations finished on 67000/75916 queries. users per second: 1127.65</pre>"
            ],
            "text/plain": [
              "recommendations finished on 67000/75916 queries. users per second: 1127.65"
            ]
          },
          "metadata": {
            "tags": []
          }
        },
        {
          "output_type": "display_data",
          "data": {
            "text/html": [
              "<pre>recommendations finished on 68000/75916 queries. users per second: 1127.94</pre>"
            ],
            "text/plain": [
              "recommendations finished on 68000/75916 queries. users per second: 1127.94"
            ]
          },
          "metadata": {
            "tags": []
          }
        },
        {
          "output_type": "display_data",
          "data": {
            "text/html": [
              "<pre>recommendations finished on 69000/75916 queries. users per second: 1128.13</pre>"
            ],
            "text/plain": [
              "recommendations finished on 69000/75916 queries. users per second: 1128.13"
            ]
          },
          "metadata": {
            "tags": []
          }
        },
        {
          "output_type": "display_data",
          "data": {
            "text/html": [
              "<pre>recommendations finished on 70000/75916 queries. users per second: 1128.63</pre>"
            ],
            "text/plain": [
              "recommendations finished on 70000/75916 queries. users per second: 1128.63"
            ]
          },
          "metadata": {
            "tags": []
          }
        },
        {
          "output_type": "display_data",
          "data": {
            "text/html": [
              "<pre>recommendations finished on 71000/75916 queries. users per second: 1128.85</pre>"
            ],
            "text/plain": [
              "recommendations finished on 71000/75916 queries. users per second: 1128.85"
            ]
          },
          "metadata": {
            "tags": []
          }
        },
        {
          "output_type": "display_data",
          "data": {
            "text/html": [
              "<pre>recommendations finished on 72000/75916 queries. users per second: 1129.2</pre>"
            ],
            "text/plain": [
              "recommendations finished on 72000/75916 queries. users per second: 1129.2"
            ]
          },
          "metadata": {
            "tags": []
          }
        },
        {
          "output_type": "display_data",
          "data": {
            "text/html": [
              "<pre>recommendations finished on 73000/75916 queries. users per second: 1129.37</pre>"
            ],
            "text/plain": [
              "recommendations finished on 73000/75916 queries. users per second: 1129.37"
            ]
          },
          "metadata": {
            "tags": []
          }
        },
        {
          "output_type": "display_data",
          "data": {
            "text/html": [
              "<pre>recommendations finished on 74000/75916 queries. users per second: 1129.64</pre>"
            ],
            "text/plain": [
              "recommendations finished on 74000/75916 queries. users per second: 1129.64"
            ]
          },
          "metadata": {
            "tags": []
          }
        },
        {
          "output_type": "display_data",
          "data": {
            "text/html": [
              "<pre>recommendations finished on 75000/75916 queries. users per second: 1129.53</pre>"
            ],
            "text/plain": [
              "recommendations finished on 75000/75916 queries. users per second: 1129.53"
            ]
          },
          "metadata": {
            "tags": []
          }
        }
      ]
    },
    {
      "cell_type": "code",
      "metadata": {
        "colab": {
          "base_uri": "https://localhost:8080/"
        },
        "id": "21v9XNNRG3YL",
        "outputId": "e785547c-9278-4954-9ad0-57b3a20c207b"
      },
      "source": [
        "results = fact_model.recommend(users=[100], k=10)\n",
        "\n",
        "for i in range(len(results)):\n",
        "  if(results['song'][i] in (list(song_df['song_id']))):\n",
        "    index = list(song_df['song_id']).index(results['song'][i])\n",
        "    print(song_df['title'][index])\n",
        "results.print_rows(num_rows=10)"
      ],
      "execution_count": null,
      "outputs": [
        {
          "output_type": "stream",
          "text": [
            "Sehr kosmisch\n",
            "You're The One\n",
            "Dog Days Are Over (Radio Edit)\n",
            "Undo\n",
            "Revelry\n",
            "Supermassive Black Hole (Twilight Soundtrack Version)\n",
            "Horn Concerto No. 4 in E flat K495: II. Romance (Andante cantabile)\n",
            "Hey_ Soul Sister\n",
            "Billionaire [feat. Bruno Mars]  (Explicit Album Version)\n",
            "Canada\n",
            "+------+--------------------+--------------------+------+\n",
            "| user |        song        |       score        | rank |\n",
            "+------+--------------------+--------------------+------+\n",
            "| 100  | SOFRQTD12A81C233C0 | 3.0754465613086466 |  1   |\n",
            "| 100  | SOBONKR12A58A7A7E0 | 3.0670548233707193 |  2   |\n",
            "| 100  | SOAXGDH12A8C13F8A1 | 3.066875581028009  |  3   |\n",
            "| 100  | SOAUWYT12A81C206F1 | 3.065289378495956  |  4   |\n",
            "| 100  | SOSXLTC12AF72A7F54 | 3.0609028715212587 |  5   |\n",
            "| 100  | SOIZLKI12A6D4F7B61 | 3.0606270473022703 |  6   |\n",
            "| 100  | SOEGIYH12A6D4FC0E3 | 3.056881646024132  |  7   |\n",
            "| 100  | SODJWHY12A8C142CCE | 3.0544256124217752 |  8   |\n",
            "| 100  | SOPTLQL12AB018D56F | 3.0535880479533914 |  9   |\n",
            "| 100  | SOPUCYA12A8C13A694 |  3.05313151548996  |  10  |\n",
            "+------+--------------------+--------------------+------+\n",
            "[10 rows x 4 columns]\n",
            "\n"
          ],
          "name": "stdout"
        }
      ]
    },
    {
      "cell_type": "code",
      "metadata": {
        "colab": {
          "base_uri": "https://localhost:8080/"
        },
        "id": "7hn6Lm5AJKKi",
        "outputId": "e9388042-00cd-47b2-f7f9-7fcd1e3f9163"
      },
      "source": [
        "fact_model.evaluate_rmse(test_data, target='listen_count')"
      ],
      "execution_count": null,
      "outputs": [
        {
          "output_type": "execute_result",
          "data": {
            "text/plain": [
              "{'rmse_by_item': Columns:\n",
              " \tsong\tstr\n",
              " \trmse\tfloat\n",
              " \tcount\tint\n",
              " \n",
              " Rows: 10000\n",
              " \n",
              " Data:\n",
              " +--------------------+--------------------+-------+\n",
              " |        song        |        rmse        | count |\n",
              " +--------------------+--------------------+-------+\n",
              " | SOOIROS12A8C13C802 | 1.6287275625254087 |   28  |\n",
              " | SOLASAK12A58A7DB32 | 1.472959776927177  |   13  |\n",
              " | SOXOXQA12AF72ABF5B | 7.552250820308212  |   38  |\n",
              " | SOMLQGF12AB0184C2A | 5.1060624967709165 |   62  |\n",
              " | SOTTTEQ12B0B80CA01 | 6.141913662418871  |   96  |\n",
              " | SOUGOHW12AB018AEA3 | 8.341070409739974  |  129  |\n",
              " | SOBSLVH12A8C131F38 | 7.882664459330724  |  199  |\n",
              " | SOCBGZW12A58A7CAC2 |  8.17067204794137  |   66  |\n",
              " | SOCJWZY12A67021D18 |  5.35279070972721  |  182  |\n",
              " | SOCEWMO12A8151CBDE | 3.974896752215731  |  100  |\n",
              " +--------------------+--------------------+-------+\n",
              " [10000 rows x 3 columns]\n",
              " Note: Only the head of the SFrame is printed.\n",
              " You can use print_rows(num_rows=m, num_columns=n) to print more rows and columns.,\n",
              " 'rmse_by_user': Columns:\n",
              " \tuser\tstr\n",
              " \trmse\tfloat\n",
              " \tcount\tint\n",
              " \n",
              " Rows: 72713\n",
              " \n",
              " Data:\n",
              " +-------------------------------+--------------------+-------+\n",
              " |              user             |        rmse        | count |\n",
              " +-------------------------------+--------------------+-------+\n",
              " | c66c10a9567f0d82ff31441a9f... | 2.856777137971671  |   8   |\n",
              " | a2bdc43ae903eb9e7e6d677b15... | 11.798498953432874 |   28  |\n",
              " | b56e50767dcb0cc0a9808e6c90... | 3.3543052650064364 |   27  |\n",
              " | 02f015d32ac2cd1e52d26e3ec3... | 1.7230423520404614 |   2   |\n",
              " | f933855d675606737fdc191e9e... | 1.8472211106423702 |   7   |\n",
              " | 4867d5516a280db13695b9b9c7... | 2.391743010804308  |   8   |\n",
              " | 968f1baebc490d3c6999ee6c85... | 3.952150206625334  |   13  |\n",
              " | 4454c4a192a467664286c8b584... | 2.879584368327293  |   9   |\n",
              " | 2c494678b5582807c16390f13d... | 0.2304865567220329 |   1   |\n",
              " | 900ed526660df9c3442ebe736d... | 6.853233333665242  |   10  |\n",
              " +-------------------------------+--------------------+-------+\n",
              " [72713 rows x 3 columns]\n",
              " Note: Only the head of the SFrame is printed.\n",
              " You can use print_rows(num_rows=m, num_columns=n) to print more rows and columns.,\n",
              " 'rmse_overall': 7.28544969680725}"
            ]
          },
          "metadata": {
            "tags": []
          },
          "execution_count": 17
        }
      ]
    },
    {
      "cell_type": "code",
      "metadata": {
        "colab": {
          "base_uri": "https://localhost:8080/"
        },
        "id": "OQcdqEUPXanU",
        "outputId": "dd4af8b9-6af2-4aea-9d35-a4623089db20"
      },
      "source": [
        "fact_model."
      ],
      "execution_count": null,
      "outputs": [
        {
          "output_type": "execute_result",
          "data": {
            "text/plain": [
              "<bound method Model.summary of Class                            : RankingFactorizationRecommender\n",
              "\n",
              "Schema\n",
              "------\n",
              "User ID                          : user\n",
              "Item ID                          : song\n",
              "Target                           : listen_count\n",
              "Additional observation features  : 6\n",
              "User side features               : []\n",
              "Item side features               : []\n",
              "\n",
              "Statistics\n",
              "----------\n",
              "Number of observations           : 1460862\n",
              "Number of users                  : 75916\n",
              "Number of items                  : 10000\n",
              "\n",
              "Training summary\n",
              "----------------\n",
              "Training time                    : 290.53\n",
              "\n",
              "Model Parameters\n",
              "----------------\n",
              "Model class                      : RankingFactorizationRecommender\n",
              "num_factors                      : 32\n",
              "binary_target                    : 0\n",
              "side_data_factorization          : 1\n",
              "solver                           : auto\n",
              "nmf                              : 0\n",
              "max_iterations                   : 25\n",
              "\n",
              "Regularization Settings\n",
              "-----------------------\n",
              "regularization                   : 0.0\n",
              "regularization_type              : normal\n",
              "linear_regularization            : 0.0\n",
              "ranking_regularization           : 0.25\n",
              "unobserved_rating_value          : -1.7976931348623157e+308\n",
              "num_sampled_negative_examples    : 4\n",
              "ials_confidence_scaling_type     : auto\n",
              "ials_confidence_scaling_factor   : 1\n",
              "\n",
              "Optimization Settings\n",
              "---------------------\n",
              "init_random_sigma                : 0.01\n",
              "sgd_convergence_interval         : 4\n",
              "sgd_convergence_threshold        : 0.0\n",
              "sgd_max_trial_iterations         : 5\n",
              "sgd_sampling_block_size          : 131072\n",
              "sgd_step_adjustment_interval     : 4\n",
              "sgd_step_size                    : 0.0\n",
              "sgd_trial_sample_minimum_size    : 10000\n",
              "sgd_trial_sample_proportion      : 0.125\n",
              "step_size_decrease_rate          : 0.75\n",
              "additional_iterations_if_unhealthy : 5\n",
              "adagrad_momentum_weighting       : 0.9\n",
              "num_tempering_iterations         : 4\n",
              "tempering_regularization_start_value : 0.0\n",
              "track_exact_loss                 : 0\n",
              ">"
            ]
          },
          "metadata": {
            "tags": []
          },
          "execution_count": 17
        }
      ]
    },
    {
      "cell_type": "code",
      "metadata": {
        "id": "WIzwRndIzpfd"
      },
      "source": [
        "def join_titles(sframe,on):\n",
        "    return sframe.join(right=train_data, on=on, how='inner')\n",
        "results = join_titles(results,'song')\n",
        "results.sort(['user','rank'], ascending=True).print_rows(20)\n"
      ],
      "execution_count": null,
      "outputs": []
    },
    {
      "cell_type": "markdown",
      "metadata": {
        "id": "HNG_tmXvGySB"
      },
      "source": [
        "**SVD**"
      ]
    },
    {
      "cell_type": "code",
      "metadata": {
        "id": "_lXhj5Z5KtMs"
      },
      "source": [
        "from surprise import SVD\n",
        "from surprise.model_selection import GridSearchCV"
      ],
      "execution_count": null,
      "outputs": []
    },
    {
      "cell_type": "code",
      "metadata": {
        "id": "VVZ548EkKZlZ"
      },
      "source": [
        "user_counts = triplets.groupby('user')['song'].count()\n",
        "\n",
        "# Filter users which have listen to at least 16 songs\n",
        "user_ten_id = user_counts[user_counts > 16].index.to_list()\n",
        "\n",
        "song_counts = triplets.groupby('song')['user'].count()\n",
        "\n",
        "# Get songs which have been listened at least 4 times\n",
        "song_ten_id = song_counts[song_counts > 200].index.to_list()"
      ],
      "execution_count": null,
      "outputs": []
    },
    {
      "cell_type": "code",
      "metadata": {
        "id": "9dYbvvDjLLej"
      },
      "source": [
        "param_grid = {'n_factors': [160], 'n_epochs': [100], 'lr_all': [0.001, 0.005],'reg_all': [0.08, 0.1]}\n",
        "gs = GridSearchCV(SVD, param_grid, measures=['rmse', 'mae'], cv=3)\n",
        "gs.fit(data)\n",
        "algo = gs.best_estimator['rmse']\n",
        "print(gs.best_score['rmse'])\n",
        "print(gs.best_params['rmse'])\n",
        "\n",
        "#Assigning values\n",
        "t = gs.best_params\n",
        "factors = t['rmse']['n_factors']\n",
        "epochs = t['rmse']['n_epochs']\n",
        "lr_value = t['rmse']['lr_all']\n",
        "reg_value = t['rmse']['reg_all']"
      ],
      "execution_count": null,
      "outputs": []
    },
    {
      "cell_type": "code",
      "metadata": {
        "id": "IKGyEcfK_j-D",
        "colab": {
          "base_uri": "https://localhost:8080/"
        },
        "outputId": "8e04171f-d24e-40b0-a7f6-f4bdedf21a75"
      },
      "source": [
        "reader = Reader(rating_scale=(1, 10))\n",
        "df_song_reduced = triplets[(triplets['user'].isin(user_ten_id)) & (triplets['song'].isin(song_ten_id))].reset_index(drop=True)\n",
        "data = Dataset.load_from_df(df_song_reduced[['user', 'song', 'play_count']], reader)\n",
        "# n_factors=factors, n_epochs=epochs, lr_all=lr_value, reg_all=reg_value\n",
        "trainset = data.build_full_trainset()   \n",
        "algo = SVD()\n",
        "algo.fit(trainset)"
      ],
      "execution_count": null,
      "outputs": [
        {
          "output_type": "execute_result",
          "data": {
            "text/plain": [
              "<surprise.prediction_algorithms.matrix_factorization.SVD at 0x7f95602488d0>"
            ]
          },
          "metadata": {
            "tags": []
          },
          "execution_count": 51
        }
      ]
    },
    {
      "cell_type": "code",
      "metadata": {
        "id": "9_8fGI8TN3r5"
      },
      "source": [
        "# Predict ratings for all pairs (u, i) that are NOT in the training set.\n",
        "testset = trainset.build_anti_testset()\n",
        "\n",
        "#Predicting the ratings for testset\n",
        "predictions = algo.test(testset)"
      ],
      "execution_count": null,
      "outputs": []
    },
    {
      "cell_type": "code",
      "metadata": {
        "id": "5FE3Iz0crkNr"
      },
      "source": [
        "from surprise.model_selection import GridSearchCV\n",
        "from surprise import SVD\n",
        "\n",
        "grid_search_svd = GridSearchCV(SVD, param_grid, measures=['rmse'], cv=3, joblib_verbose=4, n_jobs=-2)"
      ],
      "execution_count": null,
      "outputs": []
    },
    {
      "cell_type": "code",
      "metadata": {
        "id": "xq8N2DuAODwU",
        "colab": {
          "base_uri": "https://localhost:8080/"
        },
        "outputId": "f70ab660-0cac-4b3a-c062-ecda95175cf0"
      },
      "source": [
        "user_songs = train_data[['total_listen_count', 'fractional_play_count', 'listen_count']].to_numpy() \n",
        "user_songs[3]"
      ],
      "execution_count": null,
      "outputs": [
        {
          "output_type": "execute_result",
          "data": {
            "text/plain": [
              "array([1.50000000e+02, 4.66666667e-02, 7.00000000e+00])"
            ]
          },
          "metadata": {
            "tags": []
          },
          "execution_count": 31
        }
      ]
    },
    {
      "cell_type": "code",
      "metadata": {
        "id": "oo2nvTFwzjFi"
      },
      "source": [
        "reader = Reader(line_format='user item rating timestamp', sep='\\t')\n",
        "data = pd.read_csv('https://static.turi.com/datasets/millionsong/10000.txt', reader=reader)"
      ],
      "execution_count": null,
      "outputs": []
    },
    {
      "cell_type": "code",
      "metadata": {
        "id": "GyvabPhPxmFa"
      },
      "source": [
        "song_user = triplets.groupby('song')['user'].count()\n"
      ],
      "execution_count": null,
      "outputs": []
    },
    {
      "cell_type": "code",
      "metadata": {
        "id": "7MhhDu_fxvzy"
      },
      "source": [
        "user_counts = triplets.groupby('user')['song'].count()\n",
        "\n",
        "# Filter users which have listen to at least 16 songs\n",
        "user_ten_id = user_counts[user_counts > 16].index.to_list()"
      ],
      "execution_count": null,
      "outputs": []
    },
    {
      "cell_type": "code",
      "metadata": {
        "id": "8F6LI06Yx1M7"
      },
      "source": [
        "song_counts = triplets.groupby('song')['user'].count()\n",
        "\n",
        "# Get songs which have been listened at least 4 times\n",
        "song_ten_id = song_counts[song_counts > 200].index.to_list()"
      ],
      "execution_count": null,
      "outputs": []
    },
    {
      "cell_type": "code",
      "metadata": {
        "id": "SMp5YR7Rx8y_"
      },
      "source": [
        "df_song_reduced = triplets[(triplets['user'].isin(user_ten_id)) & (triplets['song'].isin(song_ten_id))].reset_index(drop=True)\n"
      ],
      "execution_count": null,
      "outputs": []
    },
    {
      "cell_type": "code",
      "metadata": {
        "id": "c23hsh4TyDLf"
      },
      "source": [
        "reader = Reader(rating_scale=(1, 10))\n",
        "data = Dataset.load_from_df(df_song_reduced[['user', 'song', 'play_count']], reader)\n"
      ],
      "execution_count": null,
      "outputs": []
    },
    {
      "cell_type": "code",
      "metadata": {
        "id": "KK4F87keISej"
      },
      "source": [
        "load_movies_list = saveLoadFile.loadClusterMoviesDataset()"
      ],
      "execution_count": null,
      "outputs": []
    },
    {
      "cell_type": "code",
      "metadata": {
        "id": "S-KoJOb2Bjqw"
      },
      "source": [
        "import pickle as pickle\n",
        "song_id_name_dic = pickle.load(open(\"/content/sample_data/clusters_movies_dataset.pkl\",\"rb\"))"
      ],
      "execution_count": null,
      "outputs": []
    },
    {
      "cell_type": "code",
      "metadata": {
        "id": "96_7joPB1Bww",
        "colab": {
          "base_uri": "https://localhost:8080/"
        },
        "outputId": "7d20cb0d-5b83-4884-8178-6b101c9be848"
      },
      "source": [
        "from surprise import NMF\n",
        "\n",
        "algo = SVD()\n",
        "trainset = data.build_full_trainset()\n",
        "algo.fit(trainset)\n",
        "predict = []\n",
        "user_inner_id = 12\n",
        "user_rating = trainset.ur[user_inner_id]\n",
        "items = map(lambda x:x[0], user_rating)\n",
        "for song in items:\n",
        "  predict = algo.predict(algo.trainset.to_raw_uid(user_inner_id), algo.trainset.to_raw_iid(song), r_ui=1)\n",
        "  if(predict.iid in list(song_df['song_id'])):\n",
        "    index = list(song_df['song_id']).index(predict.iid)\n",
        "    print(song_df['title'][index])\n"
      ],
      "execution_count": null,
      "outputs": [
        {
          "output_type": "stream",
          "text": [
            "Down On The Corner\n",
            "Surfin' Bird\n",
            "In The Flesh\n",
            "Do We Need This?\n",
            "On A Plain\n",
            "Yesterday Once More\n",
            "Flake\n",
            "She Moves In Her Own Way\n",
            "'Round Midnight\n",
            "California Dreamin'\n"
          ],
          "name": "stdout"
        }
      ]
    },
    {
      "cell_type": "code",
      "metadata": {
        "id": "jDPIUeR5QVxe"
      },
      "source": [
        "from surprise import accuracy\n",
        "testset = trainset.build_anti_testset()\n",
        "train_predictions = algo.test(testset)\n",
        "print(\"RMSE on training data : \", accuracy.rmse(predictions, verbose = False))"
      ],
      "execution_count": null,
      "outputs": []
    }
  ]
}